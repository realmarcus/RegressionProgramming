{
 "cells": [
  {
   "cell_type": "markdown",
   "metadata": {},
   "source": [
    "#Climate Change"
   ]
  },
  {
   "cell_type": "markdown",
   "metadata": {},
   "source": [
    "## Objective"
   ]
  },
  {
   "cell_type": "markdown",
   "metadata": {},
   "source": [
    "There have been many studies documenting that the average global temperature has been increasing over the last century. The consequences of a continued rise in global temperature will be dire. Rising sea levels and an increased frequency of extreme weather events will affect billions of people.\n",
    "\n",
    "In this problem, we will attempt to study the relationship between average global temperature and several other factors."
   ]
  },
  {
   "cell_type": "markdown",
   "metadata": {},
   "source": [
    "## Data Description"
   ]
  },
  {
   "cell_type": "markdown",
   "metadata": {},
   "source": [
    "The file climate\\_change.csv contains climate data from May 1983 to December 2008. The available variables include:\n",
    "\n",
    "### Year:\n",
    "\n",
    "the observation year. Month: the observation month.\n",
    "\n",
    "### Temp:\n",
    "\n",
    "the difference in degrees Celsius between the average global temperature in that period and a reference value. This data comes from the Climatic Research Unit at the University of East Anglia.\n",
    "\n",
    "### CO2, N2O, CH4, CFC.11, CFC.12:\n",
    "\n",
    "atmospheric concentrations of carbon dioxide (CO ), nitrous oxide (N O), methane  (CH ), trichlorofluoromethane (CCl F; commonly referred to as CFC-11) and dichlorodifluoromethane (CCl F ; commonly referred to as CFC-12), respectively. This data comes from the ESRL/NOAA Global Monitoring Division.\n",
    "\n",
    "### CO2, N2O and CH4\n",
    "\n",
    "are expressed in ppmv (parts per million by volume  -- i.e., 397 ppmv of CO2 means that CO2 constitutes 397 millionths of the total volume of the atmosphere) CFC.11 and CFC.12 are expressed in ppbv (parts per billion by volume). \n",
    "\n",
    "### Aerosols:\n",
    "\n",
    "the mean stratospheric aerosol optical depth at 550 nm. This variable is linked to volcanoes, as volcanic eruptions result in new particles being added to the atmosphere, which affect how much of the sun's energy is reflected back into space. This data is from the Godard Institute for Space Studies at NASA.\n",
    "\n",
    "### TSI:\n",
    "\n",
    "the total solar irradiance (TSI) in W/m (the rate at which the sun's energy is deposited per unit area). Due to sunspots and other solar phenomena, the amount of energy that is given off by the sun varies substantially with time. This data is from the SOLARIS-HEPPA project website.\n",
    "\n",
    "### MEI:\n",
    "\n",
    "multivariate El Nino Southern Oscillation index (MEI), a measure of the strength of the El Nino/La Nina-Southern Oscillation (a weather effect in the Pacific Ocean that affects global temperatures). This data comes from the ESRL/NOAA Physical Sciences Division."
   ]
  },
  {
   "cell_type": "markdown",
   "metadata": {},
   "source": [
    "## CREATING OUR FIRST MODEL"
   ]
  },
  {
   "cell_type": "markdown",
   "metadata": {},
   "source": [
    "We are interested in how changes in these variables affect future temperatures, as well as how well these variables explain temperature changes so far. To do this, first read the dataset climate\\_change.csv into python.\n",
    "\n",
    "Then, split the data into a training set, consisting of all the observations up to and including 2006, and a testing set consisting of the remaining years (hint: use subset). A training set refers to the data that will be used to build the model (this is the data we give to the lm() function), and a testing set refers to the data we will use to test our predictive ability.\n",
    "\n",
    "Next, build a linear regression model to predict the dependent variable Temp, using MEI, CO2, CH4, N2O, CFC.11, CFC.12, TSI, and Aerosols as independent variables (Year and Month should NOT be used in the model). Use the training set to build the model."
   ]
  },
  {
   "cell_type": "code",
   "execution_count": 61,
   "metadata": {
    "collapsed": false
   },
   "outputs": [
    {
     "data": {
      "text/html": [
       "<div>\n",
       "<table border=\"1\" class=\"dataframe\">\n",
       "  <thead>\n",
       "    <tr style=\"text-align: right;\">\n",
       "      <th></th>\n",
       "      <th>Year</th>\n",
       "      <th>Month</th>\n",
       "      <th>MEI</th>\n",
       "      <th>CO2</th>\n",
       "      <th>CH4</th>\n",
       "      <th>N2O</th>\n",
       "      <th>CFC-11</th>\n",
       "      <th>CFC-12</th>\n",
       "      <th>TSI</th>\n",
       "      <th>Aerosols</th>\n",
       "      <th>Temp</th>\n",
       "    </tr>\n",
       "  </thead>\n",
       "  <tbody>\n",
       "    <tr>\n",
       "      <th>0</th>\n",
       "      <td>1983</td>\n",
       "      <td>5</td>\n",
       "      <td>2.556</td>\n",
       "      <td>345.96</td>\n",
       "      <td>1638.59</td>\n",
       "      <td>303.677</td>\n",
       "      <td>191.324</td>\n",
       "      <td>350.113</td>\n",
       "      <td>1366.1024</td>\n",
       "      <td>0.0863</td>\n",
       "      <td>0.109</td>\n",
       "    </tr>\n",
       "    <tr>\n",
       "      <th>1</th>\n",
       "      <td>1983</td>\n",
       "      <td>6</td>\n",
       "      <td>2.167</td>\n",
       "      <td>345.52</td>\n",
       "      <td>1633.71</td>\n",
       "      <td>303.746</td>\n",
       "      <td>192.057</td>\n",
       "      <td>351.848</td>\n",
       "      <td>1366.1208</td>\n",
       "      <td>0.0794</td>\n",
       "      <td>0.118</td>\n",
       "    </tr>\n",
       "    <tr>\n",
       "      <th>2</th>\n",
       "      <td>1983</td>\n",
       "      <td>7</td>\n",
       "      <td>1.741</td>\n",
       "      <td>344.15</td>\n",
       "      <td>1633.22</td>\n",
       "      <td>303.795</td>\n",
       "      <td>192.818</td>\n",
       "      <td>353.725</td>\n",
       "      <td>1366.2850</td>\n",
       "      <td>0.0731</td>\n",
       "      <td>0.137</td>\n",
       "    </tr>\n",
       "    <tr>\n",
       "      <th>3</th>\n",
       "      <td>1983</td>\n",
       "      <td>8</td>\n",
       "      <td>1.130</td>\n",
       "      <td>342.25</td>\n",
       "      <td>1631.35</td>\n",
       "      <td>303.839</td>\n",
       "      <td>193.602</td>\n",
       "      <td>355.633</td>\n",
       "      <td>1366.4202</td>\n",
       "      <td>0.0673</td>\n",
       "      <td>0.176</td>\n",
       "    </tr>\n",
       "    <tr>\n",
       "      <th>4</th>\n",
       "      <td>1983</td>\n",
       "      <td>9</td>\n",
       "      <td>0.428</td>\n",
       "      <td>340.17</td>\n",
       "      <td>1648.40</td>\n",
       "      <td>303.901</td>\n",
       "      <td>194.392</td>\n",
       "      <td>357.465</td>\n",
       "      <td>1366.2335</td>\n",
       "      <td>0.0619</td>\n",
       "      <td>0.149</td>\n",
       "    </tr>\n",
       "  </tbody>\n",
       "</table>\n",
       "</div>"
      ],
      "text/plain": [
       "   Year  Month    MEI     CO2      CH4      N2O   CFC-11   CFC-12        TSI  \\\n",
       "0  1983      5  2.556  345.96  1638.59  303.677  191.324  350.113  1366.1024   \n",
       "1  1983      6  2.167  345.52  1633.71  303.746  192.057  351.848  1366.1208   \n",
       "2  1983      7  1.741  344.15  1633.22  303.795  192.818  353.725  1366.2850   \n",
       "3  1983      8  1.130  342.25  1631.35  303.839  193.602  355.633  1366.4202   \n",
       "4  1983      9  0.428  340.17  1648.40  303.901  194.392  357.465  1366.2335   \n",
       "\n",
       "   Aerosols   Temp  \n",
       "0    0.0863  0.109  \n",
       "1    0.0794  0.118  \n",
       "2    0.0731  0.137  \n",
       "3    0.0673  0.176  \n",
       "4    0.0619  0.149  "
      ]
     },
     "execution_count": 61,
     "metadata": {},
     "output_type": "execute_result"
    }
   ],
   "source": [
    "# R Code\n",
    "#data <- read.csv(\"../data/climate_change.csv\")\n",
    "#df <- tbl_df(data)\n",
    "#tr <- subset(df,subset = Year <=2006)\n",
    "#test <- subset(df,subset = Year > 2006)\n",
    "# Source for python: http://www.datacarpentry.org/python-ecology-lesson/02-index-slice-subset/\n",
    "import pandas as pd\n",
    "data = pd.read_csv(\"../data/climate_change.csv\")\n",
    "data.head()"
   ]
  },
  {
   "cell_type": "code",
   "execution_count": 62,
   "metadata": {
    "collapsed": false
   },
   "outputs": [
    {
     "name": "stdout",
     "output_type": "stream",
     "text": [
      "\n",
      "data shape:\n",
      " (308, 11)\n",
      "\n",
      "training set shape:\n",
      " (284, 11)\n",
      "\n",
      "test set shape:\n",
      " (24, 11)\n",
      "\n",
      "attributes names:\n",
      " Index(['Year', 'Month', 'MEI', 'CO2', 'CH4', 'N2O', 'CFC-11', 'CFC-12', 'TSI',\n",
      "       'Aerosols', 'Temp'],\n",
      "      dtype='object')\n"
     ]
    }
   ],
   "source": [
    "# Slicing\n",
    "tr = data[data.Year <= 2006]\n",
    "test = data[data.Year > 2006]\n",
    "print(\"\\ndata shape:\\n\",data.shape)\n",
    "print(\"\\ntraining set shape:\\n\",tr.shape)\n",
    "print(\"\\ntest set shape:\\n\",test.shape)\n",
    "print(\"\\nattributes names:\\n\",test.columns)"
   ]
  },
  {
   "cell_type": "code",
   "execution_count": 63,
   "metadata": {
    "collapsed": false
   },
   "outputs": [
    {
     "name": "stdout",
     "output_type": "stream",
     "text": [
      "\n",
      "attributes names X:\n",
      " Index(['MEI', 'CO2', 'CH4', 'N2O', 'CFC-11', 'CFC-12', 'TSI', 'Aerosols'], dtype='object')\n"
     ]
    },
    {
     "data": {
      "text/plain": [
       "LinearRegression(copy_X=True, fit_intercept=True, n_jobs=1, normalize=False)"
      ]
     },
     "execution_count": 63,
     "metadata": {},
     "output_type": "execute_result"
    }
   ],
   "source": [
    "# R code\n",
    "# model = lm(data=tr,formula = Temp ~ MEI+CO2+CH4+N2O+CFC.11+CFC.12+TSI+Aerosols)\n",
    "from sklearn import linear_model\n",
    "# Create linear regression object\n",
    "lm = linear_model.LinearRegression()\n",
    "y = tr.Temp\n",
    "X = tr.drop(['Temp','Year','Month'], axis=1)\n",
    "print(\"\\nattributes names X:\\n\",X.columns)\n",
    "lm.fit(X=X,y=y)"
   ]
  },
  {
   "cell_type": "code",
   "execution_count": 64,
   "metadata": {
    "collapsed": false
   },
   "outputs": [
    {
     "name": "stdout",
     "output_type": "stream",
     "text": [
      "\n",
      "Enter the model R -the Multiple R-squared value:\n",
      " 0.750893277052\n",
      "\n",
      "Coef:\n",
      " [  6.42053134e-02   6.45735927e-03   1.24041896e-04  -1.65280033e-02\n",
      "  -6.63048889e-03   3.80810324e-03   9.31410835e-02  -1.53761324e+00]\n",
      "\n",
      "Intercept:\n",
      " -124.594260401\n"
     ]
    }
   ],
   "source": [
    "from sklearn.metrics import r2_score\n",
    "ypred = lm.predict(X)\n",
    "print(\"\\nEnter the model R -the Multiple R-squared value:\\n\",r2_score(y,ypred))\n",
    "#coefficient_of_dermination = r2_score(y, p(x))\n",
    "#print(\"\\nShape X:\",X.shape)\n",
    "#print(\"\\nnames X:\",X.columns)\n",
    "#print(\"\\nnb of coefficients:\\n\",len(lm.coef_))\n",
    "print(\"\\nCoef:\\n\",lm.coef_)\n",
    "print(\"\\nIntercept:\\n\",lm.intercept_)\n",
    "#print(\"\\nParams:\\n\",lm.get_params)\n",
    "#print(\"\\nResidues:\\n\",lm.residues_)"
   ]
  },
  {
   "cell_type": "markdown",
   "metadata": {},
   "source": [
    "Which variables are significant in the model? We will consider a variable signficant only if the p-value is below 0.05. (Select all that apply.)"
   ]
  },
  {
   "cell_type": "markdown",
   "metadata": {},
   "source": [
    "## UNDERSTANDING THE MODEL"
   ]
  },
  {
   "cell_type": "markdown",
   "metadata": {},
   "source": [
    "Current scientific opinion is that nitrous oxide and CFC-11 are greenhouse gases: gases that are able to trap heat from the sun and contribute to the heating of the Earth. However, the regression coefficients of both the N2O and CFC-11 variables are negative, indicating that increasing atmospheric concentrations of either of these two compounds is associated with lower global temperatures.\n",
    "\n",
    "Which of the following is the simplest correct explanation for this contradiction?\n",
    "\n",
    "Answer: All of the gas concentration variables reflect human development - N2O and CFC.11 are correlated with other variables in the data set\n",
    "\n",
    "EXPLANATION: The linear correlation of N2O and CFC.11 with other variables in the data set is quite large. The first explanation does not seem correct, as the warming effect of nitrous oxide and CFC-11 are well documented, and our regression analysis is not enough to disprove it. The second explanation is unlikely, as we have estimated eight coefficients and the intercept from 284 observations.\n",
    "\n",
    "Compute the correlations between all the variables in the training set."
   ]
  },
  {
   "cell_type": "markdown",
   "metadata": {},
   "source": [
    "Which of the following independent variables is N2O highly correlated with (absolute correlation greater than 0.7)? Select all that apply.\n",
    "\n",
    "Which of the following independent variables is CFC.11 highly correlated with? Select all that apply."
   ]
  },
  {
   "cell_type": "code",
   "execution_count": 65,
   "metadata": {
    "collapsed": false
   },
   "outputs": [
    {
     "data": {
      "text/plain": [
       "array([[ 1.        ,  0.99999802,  0.99999606, ...,  0.99639586,\n",
       "         0.99636218,  0.99632616],\n",
       "       [ 0.99999802,  1.        ,  0.99999935, ...,  0.99636804,\n",
       "         0.99633248,  0.99629446],\n",
       "       [ 0.99999606,  0.99999935,  1.        , ...,  0.99641027,\n",
       "         0.99637426,  0.99633565],\n",
       "       ..., \n",
       "       [ 0.99639586,  0.99636804,  0.99641027, ...,  1.        ,\n",
       "         0.99999937,  0.99999715],\n",
       "       [ 0.99636218,  0.99633248,  0.99637426, ...,  0.99999937,\n",
       "         1.        ,  0.99999917],\n",
       "       [ 0.99632616,  0.99629446,  0.99633565, ...,  0.99999715,\n",
       "         0.99999917,  1.        ]])"
      ]
     },
     "execution_count": 65,
     "metadata": {},
     "output_type": "execute_result"
    }
   ],
   "source": [
    "import numpy as np\n",
    "np.corrcoef(tr)"
   ]
  },
  {
   "cell_type": "code",
   "execution_count": 66,
   "metadata": {
    "collapsed": false
   },
   "outputs": [
    {
     "data": {
      "text/plain": [
       "Index(['Year', 'Month', 'MEI', 'CO2', 'CH4', 'N2O', 'CFC-11', 'CFC-12', 'TSI',\n",
       "       'Aerosols', 'Temp'],\n",
       "      dtype='object')"
      ]
     },
     "execution_count": 66,
     "metadata": {},
     "output_type": "execute_result"
    }
   ],
   "source": [
    "tr.columns"
   ]
  },
  {
   "cell_type": "code",
   "execution_count": 67,
   "metadata": {
    "collapsed": false
   },
   "outputs": [
    {
     "data": {
      "image/png": "[encoded data removed]",
      "text/plain": [
       "<matplotlib.figure.Figure at 0x2bfb69f3240>"
      ]
     },
     "metadata": {},
     "output_type": "display_data"
    }
   ],
   "source": [
    "import seaborn as sns\n",
    "import matplotlib.pyplot as plt\n",
    "\n",
    "cols = ['Year', 'Month', 'MEI', 'CO2', 'CH4', 'N2O', 'CFC-11', 'CFC-12', 'TSI','Aerosols', 'Temp']\n",
    "cm = np.corrcoef(tr[cols].values.T)\n",
    "sns.set(font_scale=1)\n",
    "hm = sns.heatmap(cm, cbar=True, annot=False, yticklabels=cols, xticklabels=cols)\n",
    "sns.plt.title('Correlation between data columns')\n",
    "plt.show()"
   ]
  },
  {
   "cell_type": "markdown",
   "metadata": {},
   "source": [
    "## SIMPLIFYING THE MODEL"
   ]
  },
  {
   "cell_type": "markdown",
   "metadata": {},
   "source": [
    "Given that the correlations are so high, let us focus on the N2O variable and build a model with only MEI, TSI, Aerosols and N2O as independent variables. Remember to use the training set to build the model.\n",
    "\n",
    "Enter the coefficient of N2O in this reduced model:"
   ]
  },
  {
   "cell_type": "code",
   "execution_count": 68,
   "metadata": {
    "collapsed": false,
    "scrolled": true
   },
   "outputs": [
    {
     "name": "stdout",
     "output_type": "stream",
     "text": [
      "\n",
      "attributes names X:\n",
      " Index(['MEI', 'N2O', 'TSI', 'Aerosols'], dtype='object')\n"
     ]
    },
    {
     "data": {
      "text/plain": [
       "LinearRegression(copy_X=True, fit_intercept=True, n_jobs=1, normalize=False)"
      ]
     },
     "execution_count": 68,
     "metadata": {},
     "output_type": "execute_result"
    }
   ],
   "source": [
    "# R code\n",
    "# model = lm(data = tr,formula = Temp ~ MEI+TSI+Aerosols+N2O)\n",
    "# summary(model)\n",
    "model = linear_model.LinearRegression()\n",
    "y = tr.Temp\n",
    "# cols = ['Year', 'Month', 'MEI', 'CO2', 'CH4', 'N2O', 'CFC-11', 'CFC-12', 'TSI','Aerosols', 'Temp']\n",
    "X = tr.drop(['Temp','Year','Month','CO2','CFC-11','CFC-12','CH4'], axis=1)\n",
    "print(\"\\nattributes names X:\\n\",X.columns)\n",
    "model.fit(X=X,y=y)"
   ]
  },
  {
   "cell_type": "code",
   "execution_count": 70,
   "metadata": {
    "collapsed": false
   },
   "outputs": [
    {
     "name": "stdout",
     "output_type": "stream",
     "text": [
      "\n",
      "Enter the model R -the Multiple R-squared value:\n",
      " 0.726132127951\n",
      "\n",
      "Coef:\n",
      " [ 0.06418576  0.02531975  0.07949028 -1.70173707]\n",
      "\n",
      "Intercept:\n",
      " -116.226858153\n",
      "\n",
      "Residues:\n",
      " 2.31301958425\n"
     ]
    },
    {
     "name": "stderr",
     "output_type": "stream",
     "text": [
      "C:\\Users\\Diallo\\Anaconda3\\lib\\site-packages\\sklearn\\utils\\deprecation.py:70: DeprecationWarning: Function residues_ is deprecated; ``residues_`` is deprecated and will be removed in 0.19\n",
      "  warnings.warn(msg, category=DeprecationWarning)\n"
     ]
    }
   ],
   "source": [
    "ypred = model.predict(X)\n",
    "print(\"\\nEnter the model R -the Multiple R-squared value:\\n\",r2_score(y,ypred))\n",
    "#coefficient_of_dermination = r2_score(y, p(x))\n",
    "#print(\"\\nShape X:\",X.shape)\n",
    "#print(\"\\nnames X:\",X.columns)\n",
    "#print(\"\\nnb of coefficients:\\n\",len(lm.coef_))\n",
    "print(\"\\nCoef:\\n\",model.coef_)\n",
    "print(\"\\nIntercept:\\n\",model.intercept_)\n",
    "#print(\"\\nParams:\\n\",lm.get_params)\n",
    "#print(\"\\nResidues:\\n\",lm.residues_)"
   ]
  },
  {
   "cell_type": "markdown",
   "metadata": {},
   "source": [
    "## AUTOMATICALLY BUILDING THE MODEL"
   ]
  },
  {
   "cell_type": "markdown",
   "metadata": {},
   "source": [
    "## TESTING ON UNSEEN DATA"
   ]
  }
 ],
 "metadata": {
  "kernelspec": {
   "display_name": "Python 3",
   "language": "python",
   "name": "python3"
  },
  "language_info": {
   "codemirror_mode": {
    "name": "ipython",
    "version": 3
   },
   "file_extension": ".py",
   "mimetype": "text/x-python",
   "name": "python",
   "nbconvert_exporter": "python",
   "pygments_lexer": "ipython3",
   "version": "3.6.0"
  }
 },
 "nbformat": 4,
 "nbformat_minor": 2
}
