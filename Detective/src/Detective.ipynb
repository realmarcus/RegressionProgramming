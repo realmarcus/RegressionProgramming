{
 "cells": [
  {
   "cell_type": "markdown",
   "metadata": {},
   "source": [
    "# AN ANALYTICAL DETECTIVE"
   ]
  },
  {
   "cell_type": "markdown",
   "metadata": {},
   "source": [
    "Crime is an international concern, but it is documented and handled in very different ways in different countries. In the United States, violent crimes and property crimes are recorded by the Federal Bureau of Investigation (FBI). Additionally, each city documents crime, and some cities release data regarding crime rates. The city of Chicago, Illinois releases crime data from 2001 onward online."
   ]
  },
  {
   "cell_type": "code",
   "execution_count": 1,
   "metadata": {
    "collapsed": true
   },
   "outputs": [],
   "source": [
    "import pandas as pd"
   ]
  },
  {
   "cell_type": "markdown",
   "metadata": {},
   "source": [
    "##  LOADING THE DATA "
   ]
  },
  {
   "cell_type": "code",
   "execution_count": 2,
   "metadata": {
    "collapsed": false
   },
   "outputs": [],
   "source": [
    "datafile = \"../data/mvtWeek1.csv\"\n",
    "mvt = pd.read_csv(datafile,dtype='unicode')\n",
    "df = pd.DataFrame(mvt)"
   ]
  },
  {
   "cell_type": "markdown",
   "metadata": {},
   "source": [
    "### Analysis"
   ]
  },
  {
   "cell_type": "code",
   "execution_count": 3,
   "metadata": {
    "collapsed": false
   },
   "outputs": [
    {
     "name": "stdout",
     "output_type": "stream",
     "text": [
      "Index(['ID', 'Date', 'LocationDescription', 'Arrest', 'Domestic', 'Beat',\n",
      "       'District', 'CommunityArea', 'Year', 'Latitude', 'Longitude'],\n",
      "      dtype='object')\n",
      "        ID            Date            LocationDescription Arrest Domestic  \\\n",
      "0  8951354  12/31/12 23:15                         STREET  FALSE    FALSE   \n",
      "1  8951141  12/31/12 22:00                         STREET  FALSE    FALSE   \n",
      "2  8952745  12/31/12 22:00  RESIDENTIAL YARD (FRONT/BACK)  FALSE    FALSE   \n",
      "3  8952223  12/31/12 22:00                         STREET  FALSE    FALSE   \n",
      "4  8951608  12/31/12 21:30                         STREET  FALSE    FALSE   \n",
      "\n",
      "   Beat District CommunityArea  Year     Latitude     Longitude  \n",
      "0   623        6            69  2012  41.75628399  -87.62164472  \n",
      "1  1213       12            24  2012  41.89878849  -87.66130317  \n",
      "2  1622       16            11  2012  41.96918578  -87.76766974  \n",
      "3   724        7            67  2012  41.76932868  -87.65772562  \n",
      "4   211        2            35  2012  41.83756759  -87.62176133  \n",
      "             ID          Date LocationDescription  Arrest Domestic    Beat  \\\n",
      "count    191641        191641              191641  191641   191641  191641   \n",
      "unique   191641        131680                  78       2        2     300   \n",
      "top     2478002  5/16/08 0:00              STREET   FALSE    FALSE    2512   \n",
      "freq          1            11              156564  176105   191226    1619   \n",
      "\n",
      "       District CommunityArea    Year     Latitude     Longitude  \n",
      "count    148589        167038  191641       189365        189365  \n",
      "unique       27            79      12       152169        152039  \n",
      "top           8            25    2001  41.75465809  -87.74138501  \n",
      "freq      13058          8770   20669          265           265  \n"
     ]
    }
   ],
   "source": [
    "print(df.columns)\n",
    "print(df.head())\n",
    "print(df.describe())"
   ]
  },
  {
   "cell_type": "markdown",
   "metadata": {},
   "source": [
    "How many rows of data (observations) are in this dataset? \n",
    "n = 191641"
   ]
  },
  {
   "cell_type": "markdown",
   "metadata": {},
   "source": [
    "How many variables are in this dataset?\n",
    "c = 11 "
   ]
  },
  {
   "cell_type": "markdown",
   "metadata": {},
   "source": [
    "what is the maximum value of the variable \"ID\"?"
   ]
  },
  {
   "cell_type": "code",
   "execution_count": null,
   "metadata": {
    "collapsed": true
   },
   "outputs": [],
   "source": []
  }
 ],
 "metadata": {
  "kernelspec": {
   "display_name": "Python 3",
   "language": "python",
   "name": "python3"
  },
  "language_info": {
   "codemirror_mode": {
    "name": "ipython",
    "version": 3
   },
   "file_extension": ".py",
   "mimetype": "text/x-python",
   "name": "python",
   "nbconvert_exporter": "python",
   "pygments_lexer": "ipython3",
   "version": "3.6.0"
  }
 },
 "nbformat": 4,
 "nbformat_minor": 2
}
