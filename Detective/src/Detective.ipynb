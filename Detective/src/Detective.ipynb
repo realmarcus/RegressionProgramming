{
 "cells": [
  {
   "cell_type": "markdown",
   "metadata": {},
   "source": [
    "# AN ANALYTICAL DETECTIVE"
   ]
  },
  {
   "cell_type": "markdown",
   "metadata": {},
   "source": [
    "Crime is an international concern, but it is documented and handled in very different ways in different countries. In the United States, violent crimes and property crimes are recorded by the Federal Bureau of Investigation (FBI). Additionally, each city documents crime, and some cities release data regarding crime rates. The city of Chicago, Illinois releases crime data from 2001 onward online."
   ]
  },
  {
   "cell_type": "code",
   "execution_count": 1,
   "metadata": {
    "collapsed": true
   },
   "outputs": [],
   "source": [
    "import pandas as pd"
   ]
  },
  {
   "cell_type": "markdown",
   "metadata": {},
   "source": [
    "##  LOADING THE DATA "
   ]
  },
  {
   "cell_type": "code",
   "execution_count": 2,
   "metadata": {
    "collapsed": false
   },
   "outputs": [],
   "source": [
    "datafile = \"../data/mvtWeek1.csv\"\n",
    "mvt = pd.read_csv(datafile,dtype='unicode')\n",
    "df = pd.DataFrame(mvt)"
   ]
  },
  {
   "cell_type": "markdown",
   "metadata": {},
   "source": [
    "### Analysis"
   ]
  },
  {
   "cell_type": "code",
   "execution_count": 3,
   "metadata": {
    "collapsed": false
   },
   "outputs": [
    {
     "name": "stdout",
     "output_type": "stream",
     "text": [
      "Index(['ID', 'Date', 'LocationDescription', 'Arrest', 'Domestic', 'Beat',\n",
      "       'District', 'CommunityArea', 'Year', 'Latitude', 'Longitude'],\n",
      "      dtype='object')\n",
      "        ID            Date            LocationDescription Arrest Domestic  \\\n",
      "0  8951354  12/31/12 23:15                         STREET  FALSE    FALSE   \n",
      "1  8951141  12/31/12 22:00                         STREET  FALSE    FALSE   \n",
      "2  8952745  12/31/12 22:00  RESIDENTIAL YARD (FRONT/BACK)  FALSE    FALSE   \n",
      "3  8952223  12/31/12 22:00                         STREET  FALSE    FALSE   \n",
      "4  8951608  12/31/12 21:30                         STREET  FALSE    FALSE   \n",
      "\n",
      "   Beat District CommunityArea  Year     Latitude     Longitude  \n",
      "0   623        6            69  2012  41.75628399  -87.62164472  \n",
      "1  1213       12            24  2012  41.89878849  -87.66130317  \n",
      "2  1622       16            11  2012  41.96918578  -87.76766974  \n",
      "3   724        7            67  2012  41.76932868  -87.65772562  \n",
      "4   211        2            35  2012  41.83756759  -87.62176133  \n",
      "             ID          Date LocationDescription  Arrest Domestic    Beat  \\\n",
      "count    191641        191641              191641  191641   191641  191641   \n",
      "unique   191641        131680                  78       2        2     300   \n",
      "top     1989407  5/16/08 0:00              STREET   FALSE    FALSE    2512   \n",
      "freq          1            11              156564  176105   191226    1619   \n",
      "\n",
      "       District CommunityArea    Year     Latitude     Longitude  \n",
      "count    148589        167038  191641       189365        189365  \n",
      "unique       27            79      12       152169        152039  \n",
      "top           8            25    2001  41.75465809  -87.74138501  \n",
      "freq      13058          8770   20669          265           265  \n"
     ]
    }
   ],
   "source": [
    "print(df.columns)\n",
    "print(df.head())\n",
    "print(df.describe())"
   ]
  },
  {
   "cell_type": "markdown",
   "metadata": {},
   "source": [
    "How many rows of data (observations) are in this dataset? \n",
    "n = 191641"
   ]
  },
  {
   "cell_type": "code",
   "execution_count": 4,
   "metadata": {
    "collapsed": false
   },
   "outputs": [
    {
     "name": "stdout",
     "output_type": "stream",
     "text": [
      "\n",
      "How many rows of data (observations) are in this dataset?:\n",
      " 191641\n",
      "\n",
      "Shape: (191641, 11)\n"
     ]
    }
   ],
   "source": [
    "print(\"\\nHow many rows of data (observations) are in this dataset?:\\n\",len(df))\n",
    "print(\"\\nShape:\",df.shape)"
   ]
  },
  {
   "cell_type": "markdown",
   "metadata": {},
   "source": [
    "How many variables are in this dataset?\n",
    "c = 11 "
   ]
  },
  {
   "cell_type": "markdown",
   "metadata": {},
   "source": [
    "what is the maximum value of the variable \"ID\"?"
   ]
  },
  {
   "cell_type": "code",
   "execution_count": 5,
   "metadata": {
    "collapsed": false
   },
   "outputs": [
    {
     "name": "stdout",
     "output_type": "stream",
     "text": [
      "\n",
      "maximum value of the variable ID is:  9181151\n"
     ]
    }
   ],
   "source": [
    "print(\"\\nmaximum value of the variable ID is: \",df.ID.max())"
   ]
  },
  {
   "cell_type": "markdown",
   "metadata": {},
   "source": [
    "What is the minimum value of the variable \"Beat\"?"
   ]
  },
  {
   "cell_type": "code",
   "execution_count": 6,
   "metadata": {
    "collapsed": false
   },
   "outputs": [
    {
     "name": "stdout",
     "output_type": "stream",
     "text": [
      "\n",
      "minimum value of the variable Beat: 1011\n"
     ]
    }
   ],
   "source": [
    "print(\"\\nminimum value of the variable Beat:\",df.Beat.min())"
   ]
  },
  {
   "cell_type": "markdown",
   "metadata": {},
   "source": [
    "How many observations have value TRUE in the Arrest variable (this is the number of crimes for which an arrest was made)?"
   ]
  },
  {
   "cell_type": "code",
   "execution_count": 7,
   "metadata": {
    "collapsed": false
   },
   "outputs": [
    {
     "data": {
      "text/plain": [
       "FALSE    176105\n",
       "TRUE      15536\n",
       "Name: Arrest, dtype: int64"
      ]
     },
     "execution_count": 7,
     "metadata": {},
     "output_type": "execute_result"
    }
   ],
   "source": [
    "df['Arrest'].value_counts()"
   ]
  },
  {
   "cell_type": "markdown",
   "metadata": {},
   "source": [
    "How many observations have a LocationDescription value of ALLEY? 2308"
   ]
  },
  {
   "cell_type": "code",
   "execution_count": 8,
   "metadata": {
    "collapsed": false
   },
   "outputs": [
    {
     "data": {
      "text/plain": [
       "STREET                                             156564\n",
       "PARKING LOT/GARAGE(NON.RESID.)                      14852\n",
       "OTHER                                                4573\n",
       "ALLEY                                                2308\n",
       "GAS STATION                                          2111\n",
       "DRIVEWAY - RESIDENTIAL                               1675\n",
       "RESIDENTIAL YARD (FRONT/BACK)                        1536\n",
       "RESIDENCE                                            1302\n",
       "RESIDENCE-GARAGE                                     1176\n",
       "VACANT LOT/LAND                                       985\n",
       "VEHICLE NON-COMMERCIAL                                817\n",
       "SIDEWALK                                              462\n",
       "CHA PARKING LOT/GROUNDS                               405\n",
       "AIRPORT/AIRCRAFT                                      363\n",
       "POLICE FACILITY/VEH PARKING LOT                       266\n",
       "PARK PROPERTY                                         255\n",
       "SCHOOL, PUBLIC, GROUNDS                               206\n",
       "APARTMENT                                             184\n",
       "SPORTS ARENA/STADIUM                                  166\n",
       "CTA GARAGE / OTHER PROPERTY                           148\n",
       "COMMERCIAL / BUSINESS OFFICE                          126\n",
       "HOTEL/MOTEL                                           124\n",
       "SCHOOL, PUBLIC, BUILDING                              114\n",
       "HOSPITAL BUILDING/GROUNDS                             101\n",
       "GROCERY FOOD STORE                                     80\n",
       "CHURCH/SYNAGOGUE/PLACE OF WORSHIP                      56\n",
       "RESTAURANT                                             49\n",
       "GOVERNMENT BUILDING/PROPERTY                           48\n",
       "COLLEGE/UNIVERSITY GROUNDS                             47\n",
       "CAR WASH                                               44\n",
       "                                                    ...  \n",
       "AIRPORT VENDING ESTABLISHMENT                          10\n",
       "ATHLETIC CLUB                                           9\n",
       "OTHER COMMERCIAL TRANSPORTATION                         8\n",
       "DRUG STORE                                              8\n",
       "CONVENIENCE STORE                                       7\n",
       "BANK                                                    7\n",
       "FOREST PRESERVE                                         6\n",
       "CHA APARTMENT                                           5\n",
       "DAY CARE CENTER                                         5\n",
       "FIRE STATION                                            5\n",
       "AIRPORT TERMINAL UPPER LEVEL - NON-SECURE AREA          5\n",
       "BARBERSHOP                                              4\n",
       "ABANDONED BUILDING                                      4\n",
       "AIRPORT BUILDING NON-TERMINAL - NON-SECURE AREA         4\n",
       "LAKEFRONT/WATERFRONT/RIVERBANK                          4\n",
       "SAVINGS AND LOAN                                        4\n",
       "LIBRARY                                                 4\n",
       "MEDICAL/DENTAL OFFICE                                   3\n",
       "BOWLING ALLEY                                           3\n",
       "CLEANING STORE                                          3\n",
       "CURRENCY EXCHANGE                                       2\n",
       "BRIDGE                                                  2\n",
       "COLLEGE/UNIVERSITY RESIDENCE HALL                       2\n",
       "NEWSSTAND                                               1\n",
       "ANIMAL HOSPITAL                                         1\n",
       "APPLIANCE STORE                                         1\n",
       "AIRPORT EXTERIOR - SECURE AREA                          1\n",
       "CTA TRAIN                                               1\n",
       "AIRPORT BUILDING NON-TERMINAL - SECURE AREA             1\n",
       "JAIL / LOCK-UP FACILITY                                 1\n",
       "Name: LocationDescription, dtype: int64"
      ]
     },
     "execution_count": 8,
     "metadata": {},
     "output_type": "execute_result"
    }
   ],
   "source": [
    "df['LocationDescription'].value_counts()"
   ]
  },
  {
   "cell_type": "markdown",
   "metadata": {},
   "source": [
    "## UNDERSTANDING DATES"
   ]
  },
  {
   "cell_type": "markdown",
   "metadata": {},
   "source": [
    "In many datasets, like this one, you have a date field. Unfortunately, R does not automatically recognize entries that look like dates. We need to use a function in R to extract the date and time. Take a look at the first entry of Date (remember to use square brackets when looking at a certain entry of a variable)."
   ]
  },
  {
   "cell_type": "markdown",
   "metadata": {},
   "source": [
    "In what format are the entries in the variable Date? Month/Day/Year Hour:Minute "
   ]
  },
  {
   "cell_type": "code",
   "execution_count": 9,
   "metadata": {
    "collapsed": false
   },
   "outputs": [
    {
     "data": {
      "text/plain": [
       "0    12/31/12 23:15\n",
       "1    12/31/12 22:00\n",
       "2    12/31/12 22:00\n",
       "3    12/31/12 22:00\n",
       "4    12/31/12 21:30\n",
       "Name: Date, dtype: object"
      ]
     },
     "execution_count": 9,
     "metadata": {},
     "output_type": "execute_result"
    }
   ],
   "source": [
    "df.Date.head()"
   ]
  },
  {
   "cell_type": "markdown",
   "metadata": {},
   "source": [
    "Now, let's convert these characters into a Date object in python"
   ]
  },
  {
   "cell_type": "code",
   "execution_count": 10,
   "metadata": {
    "collapsed": true
   },
   "outputs": [],
   "source": [
    "from datetime import datetime"
   ]
  },
  {
   "cell_type": "code",
   "execution_count": 47,
   "metadata": {
    "collapsed": false,
    "scrolled": true
   },
   "outputs": [],
   "source": [
    "df['NewDate']=pd.to_datetime(df['Date'], format=\"%m/%d/%y %H:%M\")"
   ]
  },
  {
   "cell_type": "code",
   "execution_count": 12,
   "metadata": {
    "collapsed": false
   },
   "outputs": [
    {
     "data": {
      "text/html": [
       "<div>\n",
       "<table border=\"1\" class=\"dataframe\">\n",
       "  <thead>\n",
       "    <tr style=\"text-align: right;\">\n",
       "      <th></th>\n",
       "      <th>ID</th>\n",
       "      <th>Date</th>\n",
       "      <th>LocationDescription</th>\n",
       "      <th>Arrest</th>\n",
       "      <th>Domestic</th>\n",
       "      <th>Beat</th>\n",
       "      <th>District</th>\n",
       "      <th>CommunityArea</th>\n",
       "      <th>Year</th>\n",
       "      <th>Latitude</th>\n",
       "      <th>Longitude</th>\n",
       "      <th>NewDate</th>\n",
       "    </tr>\n",
       "  </thead>\n",
       "  <tbody>\n",
       "    <tr>\n",
       "      <th>0</th>\n",
       "      <td>8951354</td>\n",
       "      <td>12/31/12 23:15</td>\n",
       "      <td>STREET</td>\n",
       "      <td>FALSE</td>\n",
       "      <td>FALSE</td>\n",
       "      <td>623</td>\n",
       "      <td>6</td>\n",
       "      <td>69</td>\n",
       "      <td>2012</td>\n",
       "      <td>41.75628399</td>\n",
       "      <td>-87.62164472</td>\n",
       "      <td>2012-12-31 23:15:00</td>\n",
       "    </tr>\n",
       "    <tr>\n",
       "      <th>1</th>\n",
       "      <td>8951141</td>\n",
       "      <td>12/31/12 22:00</td>\n",
       "      <td>STREET</td>\n",
       "      <td>FALSE</td>\n",
       "      <td>FALSE</td>\n",
       "      <td>1213</td>\n",
       "      <td>12</td>\n",
       "      <td>24</td>\n",
       "      <td>2012</td>\n",
       "      <td>41.89878849</td>\n",
       "      <td>-87.66130317</td>\n",
       "      <td>2012-12-31 22:00:00</td>\n",
       "    </tr>\n",
       "    <tr>\n",
       "      <th>2</th>\n",
       "      <td>8952745</td>\n",
       "      <td>12/31/12 22:00</td>\n",
       "      <td>RESIDENTIAL YARD (FRONT/BACK)</td>\n",
       "      <td>FALSE</td>\n",
       "      <td>FALSE</td>\n",
       "      <td>1622</td>\n",
       "      <td>16</td>\n",
       "      <td>11</td>\n",
       "      <td>2012</td>\n",
       "      <td>41.96918578</td>\n",
       "      <td>-87.76766974</td>\n",
       "      <td>2012-12-31 22:00:00</td>\n",
       "    </tr>\n",
       "    <tr>\n",
       "      <th>3</th>\n",
       "      <td>8952223</td>\n",
       "      <td>12/31/12 22:00</td>\n",
       "      <td>STREET</td>\n",
       "      <td>FALSE</td>\n",
       "      <td>FALSE</td>\n",
       "      <td>724</td>\n",
       "      <td>7</td>\n",
       "      <td>67</td>\n",
       "      <td>2012</td>\n",
       "      <td>41.76932868</td>\n",
       "      <td>-87.65772562</td>\n",
       "      <td>2012-12-31 22:00:00</td>\n",
       "    </tr>\n",
       "    <tr>\n",
       "      <th>4</th>\n",
       "      <td>8951608</td>\n",
       "      <td>12/31/12 21:30</td>\n",
       "      <td>STREET</td>\n",
       "      <td>FALSE</td>\n",
       "      <td>FALSE</td>\n",
       "      <td>211</td>\n",
       "      <td>2</td>\n",
       "      <td>35</td>\n",
       "      <td>2012</td>\n",
       "      <td>41.83756759</td>\n",
       "      <td>-87.62176133</td>\n",
       "      <td>2012-12-31 21:30:00</td>\n",
       "    </tr>\n",
       "  </tbody>\n",
       "</table>\n",
       "</div>"
      ],
      "text/plain": [
       "        ID            Date            LocationDescription Arrest Domestic  \\\n",
       "0  8951354  12/31/12 23:15                         STREET  FALSE    FALSE   \n",
       "1  8951141  12/31/12 22:00                         STREET  FALSE    FALSE   \n",
       "2  8952745  12/31/12 22:00  RESIDENTIAL YARD (FRONT/BACK)  FALSE    FALSE   \n",
       "3  8952223  12/31/12 22:00                         STREET  FALSE    FALSE   \n",
       "4  8951608  12/31/12 21:30                         STREET  FALSE    FALSE   \n",
       "\n",
       "   Beat District CommunityArea  Year     Latitude     Longitude  \\\n",
       "0   623        6            69  2012  41.75628399  -87.62164472   \n",
       "1  1213       12            24  2012  41.89878849  -87.66130317   \n",
       "2  1622       16            11  2012  41.96918578  -87.76766974   \n",
       "3   724        7            67  2012  41.76932868  -87.65772562   \n",
       "4   211        2            35  2012  41.83756759  -87.62176133   \n",
       "\n",
       "              NewDate  \n",
       "0 2012-12-31 23:15:00  \n",
       "1 2012-12-31 22:00:00  \n",
       "2 2012-12-31 22:00:00  \n",
       "3 2012-12-31 22:00:00  \n",
       "4 2012-12-31 21:30:00  "
      ]
     },
     "execution_count": 12,
     "metadata": {},
     "output_type": "execute_result"
    }
   ],
   "source": [
    "df.head()"
   ]
  },
  {
   "cell_type": "markdown",
   "metadata": {},
   "source": [
    "What is the month and year of the median date in our dataset? Enter your answer as \"Month Year\", without the quotes. (Ex: if the answer was 2008-03-28, you would give the answer \"March 2008\", without the quotes.)"
   ]
  },
  {
   "cell_type": "code",
   "execution_count": 13,
   "metadata": {
    "collapsed": false
   },
   "outputs": [],
   "source": [
    "import statistics as stat"
   ]
  },
  {
   "cell_type": "code",
   "execution_count": 14,
   "metadata": {
    "collapsed": false
   },
   "outputs": [
    {
     "name": "stdout",
     "output_type": "stream",
     "text": [
      "\n",
      "Median Date: May 2006\n"
     ]
    }
   ],
   "source": [
    "print(\"\\nMedian Date:\",stat.median(df.NewDate).strftime(\"%B %Y\"))"
   ]
  },
  {
   "cell_type": "markdown",
   "metadata": {},
   "source": [
    "Now, let's extract the month and the day of the week, and add these variables to our data frame mvt. We can do this with two simple functions"
   ]
  },
  {
   "cell_type": "code",
   "execution_count": 15,
   "metadata": {
    "collapsed": false
   },
   "outputs": [],
   "source": [
    "df['Month']=df['NewDate'].dt.month"
   ]
  },
  {
   "cell_type": "markdown",
   "metadata": {},
   "source": [
    "In which month did the fewest motor vehicle thefts occur? \n",
    "\n",
    "2 means February"
   ]
  },
  {
   "cell_type": "code",
   "execution_count": 16,
   "metadata": {
    "collapsed": false
   },
   "outputs": [
    {
     "data": {
      "text/plain": [
       "Month\n",
       "1     16047\n",
       "2     13511\n",
       "3     15758\n",
       "4     15280\n",
       "5     16035\n",
       "6     16002\n",
       "7     16801\n",
       "8     16572\n",
       "9     16060\n",
       "10    17086\n",
       "11    16063\n",
       "12    16426\n",
       "Name: ID, dtype: int64"
      ]
     },
     "execution_count": 16,
     "metadata": {},
     "output_type": "execute_result"
    }
   ],
   "source": [
    "df.groupby('Month')['ID'].count()"
   ]
  },
  {
   "cell_type": "markdown",
   "metadata": {
    "collapsed": true
   },
   "source": [
    "Each observation in the dataset represents a motor vehicle theft, and the Arrest variable indicates whether an arrest was\n",
    "later made for this theft. Which month has the largest number of motor vehicle thefts for which an arrest was made?\n",
    "\n",
    "Januarry -> 1435"
   ]
  },
  {
   "cell_type": "code",
   "execution_count": 17,
   "metadata": {
    "collapsed": false
   },
   "outputs": [
    {
     "data": {
      "text/plain": [
       "Month  Arrest\n",
       "1      FALSE     14612\n",
       "       TRUE       1435\n",
       "2      FALSE     12273\n",
       "       TRUE       1238\n",
       "3      FALSE     14460\n",
       "       TRUE       1298\n",
       "4      FALSE     14028\n",
       "       TRUE       1252\n",
       "5      FALSE     14848\n",
       "       TRUE       1187\n",
       "6      FALSE     14772\n",
       "       TRUE       1230\n",
       "7      FALSE     15477\n",
       "       TRUE       1324\n",
       "8      FALSE     15243\n",
       "       TRUE       1329\n",
       "9      FALSE     14812\n",
       "       TRUE       1248\n",
       "10     FALSE     15744\n",
       "       TRUE       1342\n",
       "11     FALSE     14807\n",
       "       TRUE       1256\n",
       "12     FALSE     15029\n",
       "       TRUE       1397\n",
       "Name: ID, dtype: int64"
      ]
     },
     "execution_count": 17,
     "metadata": {},
     "output_type": "execute_result"
    }
   ],
   "source": [
    "df.groupby(['Month','Arrest'])['ID'].count()"
   ]
  },
  {
   "cell_type": "markdown",
   "metadata": {},
   "source": [
    "## VISUALIZING CRIME TRENDS"
   ]
  },
  {
   "cell_type": "markdown",
   "metadata": {},
   "source": [
    "Now, let's make some plots to help us better understand how crime has changed over time in Chicago. Throughout this\n",
    "problem, and in general, you can save your plot to a file. For more information, this website very clearly explains the\n",
    "process.\n",
    "First, let's make a histogram of the variable Date. We'll add an extra argument, to specify the number of bars we want in\n",
    "our histogram."
   ]
  },
  {
   "cell_type": "code",
   "execution_count": 53,
   "metadata": {
    "collapsed": true
   },
   "outputs": [],
   "source": [
    "import matplotlib.pyplot as plt \n",
    "import numpy as np"
   ]
  },
  {
   "cell_type": "code",
   "execution_count": null,
   "metadata": {
    "collapsed": true
   },
   "outputs": [],
   "source": []
  }
 ],
 "metadata": {
  "kernelspec": {
   "display_name": "Python 3",
   "language": "python",
   "name": "python3"
  },
  "language_info": {
   "codemirror_mode": {
    "name": "ipython",
    "version": 3
   },
   "file_extension": ".py",
   "mimetype": "text/x-python",
   "name": "python",
   "nbconvert_exporter": "python",
   "pygments_lexer": "ipython3",
   "version": "3.6.0"
  }
 },
 "nbformat": 4,
 "nbformat_minor": 2
}
