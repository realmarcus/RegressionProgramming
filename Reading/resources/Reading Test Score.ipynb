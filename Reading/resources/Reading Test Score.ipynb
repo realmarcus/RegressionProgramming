{
 "cells": [
  {
   "cell_type": "markdown",
   "metadata": {},
   "source": [
    "# READING TEST SCORES"
   ]
  },
  {
   "cell_type": "markdown",
   "metadata": {},
   "source": [
    "The Programme for International Student Assessment (PISA) is a test given every three years to 15-year-old students from\n",
    "around the world to evaluate their performance in mathematics, reading, and science. This test provides a quantitative way\n",
    "to compare the performance of students from different parts of the world. In this homework assignment, we will predict\n",
    "the reading scores of students from the United States of America on the 2009 PISA exam.\n",
    "\n",
    "The datasets pisa2009train.csv and pisa2009test.csv contain information about the demographics and schools for\n",
    "American students taking the exam, derived from 2009 PISA Public-Use Data Files distributed by the United States National\n",
    "Center for Education Statistics (NCES). While the datasets are not supposed to contain identifying information about\n",
    "students taking the test, by using the data you are bound by the NCES data use agreement, which prohibits any attempt to\n",
    "determine the identity of any student in the datasets.\n",
    "\n",
    "Each row in the datasets pisa2009train.csv and pisa2009test.csv represents one student taking the exam. The datasets\n",
    "have the following variables:"
   ]
  },
  {
   "cell_type": "markdown",
   "metadata": {},
   "source": [
    "## Data"
   ]
  },
  {
   "cell_type": "markdown",
   "metadata": {},
   "source": [
    "Each row in the datasets pisa2009train.csv and pisa2009test.csv represents one student taking the exam. The datasets have the following variables:\n",
    "\n",
    "grade: The grade in school of the student (most 15-year-olds in America are in 10th grade)\n",
    "\n",
    "male:Whether the student is male (1/0)\n",
    "\n",
    "raceeth:The race/ethnicity composite of the student\n",
    "\n",
    "preschool:Whether the student attended preschool (1/0)\n",
    "\n",
    "expectBachelors:Whether the student expects to obtain a bachelor's degree (1/0)\n",
    "\n",
    "motherHS:Whether the student's mother completed high school (1/0)\n",
    "\n",
    "motherBachelors:Whether the student's mother obtained a bachelor's degree (1/0)\n",
    "\n",
    "motherWork:Whether the student's mother has part-time or full-time work (1/0)\n",
    "\n",
    "fatherHS:Whether the student's father completed high school (1/0)\n",
    "\n",
    "fatherBachelors:Whether the student's father obtained a bachelor's degree (1/0)\n",
    "\n",
    "fatherWork:Whether the student's father has part-time or full-time work (1/0)\n",
    "\n",
    "selfBornUS:Whether the student was born in the United States of America (1/0)\n",
    "\n",
    "motherBornUS:Whether the student's mother was born in the United States of America (1/0)\n",
    "\n",
    "fatherBornUS:Whether the student's father was born in the United States of America (1/0)\n",
    "\n",
    "englishAtHome:Whether the student speaks English at home (1/0)\n",
    "\n",
    "computerForSchoolwork:Whether the student has access to a computer for schoolwork (1/0)\n",
    "\n",
    "read30MinsADay:Whether the student reads for pleasure for 30 minutes/day (1/0)\n",
    "\n",
    "minutesPerWeekEnglish:The number of minutes per week the student spend in English class\n",
    "\n",
    "studentsInEnglish:The number of students in this student's English class at school\n",
    "\n",
    "schoolHasLibrary:Whether this student's school has a library (1/0)\n",
    "\n",
    "publicSchool:Whether this student attends a public school (1/0)\n",
    "\n",
    "urban:Whether this student's school is in an urban area (1/0)\n",
    "\n",
    "schoolSize: The number of students in this student's school\n",
    "\n",
    "readingScore:The student's reading score, on a 1000-point scale"
   ]
  },
  {
   "cell_type": "markdown",
   "metadata": {},
   "source": [
    "##  DATASET SIZE"
   ]
  },
  {
   "cell_type": "markdown",
   "metadata": {},
   "source": [
    "Load the training and testing sets using the read.csv() function, and save them as variables with the names pisaTrain and pisaTest."
   ]
  },
  {
   "cell_type": "code",
   "execution_count": 9,
   "metadata": {
    "collapsed": false
   },
   "outputs": [
    {
     "name": "stdout",
     "output_type": "stream",
     "text": [
      "<class 'pandas.core.frame.DataFrame'>\n",
      "RangeIndex: 3663 entries, 0 to 3662\n",
      "Data columns (total 24 columns):\n",
      "grade                    3663 non-null int64\n",
      "male                     3663 non-null int64\n",
      "raceeth                  3628 non-null object\n",
      "preschool                3607 non-null float64\n",
      "expectBachelors          3601 non-null float64\n",
      "motherHS                 3566 non-null float64\n",
      "motherBachelors          3266 non-null float64\n",
      "motherWork               3570 non-null float64\n",
      "fatherHS                 3418 non-null float64\n",
      "fatherBachelors          3094 non-null float64\n",
      "fatherWork               3430 non-null float64\n",
      "selfBornUS               3594 non-null float64\n",
      "motherBornUS             3592 non-null float64\n",
      "fatherBornUS             3550 non-null float64\n",
      "englishAtHome            3592 non-null float64\n",
      "computerForSchoolwork    3598 non-null float64\n",
      "read30MinsADay           3629 non-null float64\n",
      "minutesPerWeekEnglish    3477 non-null float64\n",
      "studentsInEnglish        3414 non-null float64\n",
      "schoolHasLibrary         3520 non-null float64\n",
      "publicSchool             3663 non-null int64\n",
      "urban                    3663 non-null int64\n",
      "schoolSize               3501 non-null float64\n",
      "readingScore             3663 non-null float64\n",
      "dtypes: float64(19), int64(4), object(1)\n",
      "memory usage: 686.9+ KB\n"
     ]
    },
    {
     "data": {
      "text/html": [
       "<div>\n",
       "<table border=\"1\" class=\"dataframe\">\n",
       "  <thead>\n",
       "    <tr style=\"text-align: right;\">\n",
       "      <th></th>\n",
       "      <th>grade</th>\n",
       "      <th>male</th>\n",
       "      <th>preschool</th>\n",
       "      <th>expectBachelors</th>\n",
       "      <th>motherHS</th>\n",
       "      <th>motherBachelors</th>\n",
       "      <th>motherWork</th>\n",
       "      <th>fatherHS</th>\n",
       "      <th>fatherBachelors</th>\n",
       "      <th>fatherWork</th>\n",
       "      <th>...</th>\n",
       "      <th>englishAtHome</th>\n",
       "      <th>computerForSchoolwork</th>\n",
       "      <th>read30MinsADay</th>\n",
       "      <th>minutesPerWeekEnglish</th>\n",
       "      <th>studentsInEnglish</th>\n",
       "      <th>schoolHasLibrary</th>\n",
       "      <th>publicSchool</th>\n",
       "      <th>urban</th>\n",
       "      <th>schoolSize</th>\n",
       "      <th>readingScore</th>\n",
       "    </tr>\n",
       "  </thead>\n",
       "  <tbody>\n",
       "    <tr>\n",
       "      <th>count</th>\n",
       "      <td>3663.000000</td>\n",
       "      <td>3663.000000</td>\n",
       "      <td>3607.000000</td>\n",
       "      <td>3601.000000</td>\n",
       "      <td>3566.000000</td>\n",
       "      <td>3266.000000</td>\n",
       "      <td>3570.000000</td>\n",
       "      <td>3418.000000</td>\n",
       "      <td>3094.000000</td>\n",
       "      <td>3430.000000</td>\n",
       "      <td>...</td>\n",
       "      <td>3592.000000</td>\n",
       "      <td>3598.000000</td>\n",
       "      <td>3629.000000</td>\n",
       "      <td>3477.000000</td>\n",
       "      <td>3414.000000</td>\n",
       "      <td>3520.000000</td>\n",
       "      <td>3663.000000</td>\n",
       "      <td>3663.000000</td>\n",
       "      <td>3501.000000</td>\n",
       "      <td>3663.000000</td>\n",
       "    </tr>\n",
       "    <tr>\n",
       "      <th>mean</th>\n",
       "      <td>10.089817</td>\n",
       "      <td>0.511057</td>\n",
       "      <td>0.722761</td>\n",
       "      <td>0.785893</td>\n",
       "      <td>0.879978</td>\n",
       "      <td>0.348132</td>\n",
       "      <td>0.734454</td>\n",
       "      <td>0.859274</td>\n",
       "      <td>0.331933</td>\n",
       "      <td>0.853061</td>\n",
       "      <td>...</td>\n",
       "      <td>0.871659</td>\n",
       "      <td>0.899389</td>\n",
       "      <td>0.289887</td>\n",
       "      <td>266.208225</td>\n",
       "      <td>24.499414</td>\n",
       "      <td>0.967614</td>\n",
       "      <td>0.933934</td>\n",
       "      <td>0.384930</td>\n",
       "      <td>1369.316767</td>\n",
       "      <td>497.911403</td>\n",
       "    </tr>\n",
       "    <tr>\n",
       "      <th>std</th>\n",
       "      <td>0.554375</td>\n",
       "      <td>0.499946</td>\n",
       "      <td>0.447697</td>\n",
       "      <td>0.410259</td>\n",
       "      <td>0.325033</td>\n",
       "      <td>0.476451</td>\n",
       "      <td>0.441685</td>\n",
       "      <td>0.347789</td>\n",
       "      <td>0.470983</td>\n",
       "      <td>0.354096</td>\n",
       "      <td>...</td>\n",
       "      <td>0.334515</td>\n",
       "      <td>0.300855</td>\n",
       "      <td>0.453772</td>\n",
       "      <td>148.403525</td>\n",
       "      <td>7.184348</td>\n",
       "      <td>0.177049</td>\n",
       "      <td>0.248431</td>\n",
       "      <td>0.486645</td>\n",
       "      <td>869.983618</td>\n",
       "      <td>95.515153</td>\n",
       "    </tr>\n",
       "    <tr>\n",
       "      <th>min</th>\n",
       "      <td>8.000000</td>\n",
       "      <td>0.000000</td>\n",
       "      <td>0.000000</td>\n",
       "      <td>0.000000</td>\n",
       "      <td>0.000000</td>\n",
       "      <td>0.000000</td>\n",
       "      <td>0.000000</td>\n",
       "      <td>0.000000</td>\n",
       "      <td>0.000000</td>\n",
       "      <td>0.000000</td>\n",
       "      <td>...</td>\n",
       "      <td>0.000000</td>\n",
       "      <td>0.000000</td>\n",
       "      <td>0.000000</td>\n",
       "      <td>0.000000</td>\n",
       "      <td>1.000000</td>\n",
       "      <td>0.000000</td>\n",
       "      <td>0.000000</td>\n",
       "      <td>0.000000</td>\n",
       "      <td>100.000000</td>\n",
       "      <td>168.550000</td>\n",
       "    </tr>\n",
       "    <tr>\n",
       "      <th>25%</th>\n",
       "      <td>10.000000</td>\n",
       "      <td>0.000000</td>\n",
       "      <td>0.000000</td>\n",
       "      <td>1.000000</td>\n",
       "      <td>1.000000</td>\n",
       "      <td>0.000000</td>\n",
       "      <td>0.000000</td>\n",
       "      <td>1.000000</td>\n",
       "      <td>0.000000</td>\n",
       "      <td>1.000000</td>\n",
       "      <td>...</td>\n",
       "      <td>1.000000</td>\n",
       "      <td>1.000000</td>\n",
       "      <td>0.000000</td>\n",
       "      <td>225.000000</td>\n",
       "      <td>20.000000</td>\n",
       "      <td>1.000000</td>\n",
       "      <td>1.000000</td>\n",
       "      <td>0.000000</td>\n",
       "      <td>712.000000</td>\n",
       "      <td>431.705000</td>\n",
       "    </tr>\n",
       "    <tr>\n",
       "      <th>50%</th>\n",
       "      <td>10.000000</td>\n",
       "      <td>1.000000</td>\n",
       "      <td>1.000000</td>\n",
       "      <td>1.000000</td>\n",
       "      <td>1.000000</td>\n",
       "      <td>0.000000</td>\n",
       "      <td>1.000000</td>\n",
       "      <td>1.000000</td>\n",
       "      <td>0.000000</td>\n",
       "      <td>1.000000</td>\n",
       "      <td>...</td>\n",
       "      <td>1.000000</td>\n",
       "      <td>1.000000</td>\n",
       "      <td>0.000000</td>\n",
       "      <td>250.000000</td>\n",
       "      <td>25.000000</td>\n",
       "      <td>1.000000</td>\n",
       "      <td>1.000000</td>\n",
       "      <td>0.000000</td>\n",
       "      <td>1212.000000</td>\n",
       "      <td>499.660000</td>\n",
       "    </tr>\n",
       "    <tr>\n",
       "      <th>75%</th>\n",
       "      <td>10.000000</td>\n",
       "      <td>1.000000</td>\n",
       "      <td>1.000000</td>\n",
       "      <td>1.000000</td>\n",
       "      <td>1.000000</td>\n",
       "      <td>1.000000</td>\n",
       "      <td>1.000000</td>\n",
       "      <td>1.000000</td>\n",
       "      <td>1.000000</td>\n",
       "      <td>1.000000</td>\n",
       "      <td>...</td>\n",
       "      <td>1.000000</td>\n",
       "      <td>1.000000</td>\n",
       "      <td>1.000000</td>\n",
       "      <td>300.000000</td>\n",
       "      <td>30.000000</td>\n",
       "      <td>1.000000</td>\n",
       "      <td>1.000000</td>\n",
       "      <td>1.000000</td>\n",
       "      <td>1900.000000</td>\n",
       "      <td>566.230000</td>\n",
       "    </tr>\n",
       "    <tr>\n",
       "      <th>max</th>\n",
       "      <td>12.000000</td>\n",
       "      <td>1.000000</td>\n",
       "      <td>1.000000</td>\n",
       "      <td>1.000000</td>\n",
       "      <td>1.000000</td>\n",
       "      <td>1.000000</td>\n",
       "      <td>1.000000</td>\n",
       "      <td>1.000000</td>\n",
       "      <td>1.000000</td>\n",
       "      <td>1.000000</td>\n",
       "      <td>...</td>\n",
       "      <td>1.000000</td>\n",
       "      <td>1.000000</td>\n",
       "      <td>1.000000</td>\n",
       "      <td>2400.000000</td>\n",
       "      <td>75.000000</td>\n",
       "      <td>1.000000</td>\n",
       "      <td>1.000000</td>\n",
       "      <td>1.000000</td>\n",
       "      <td>6694.000000</td>\n",
       "      <td>746.000000</td>\n",
       "    </tr>\n",
       "  </tbody>\n",
       "</table>\n",
       "<p>8 rows × 23 columns</p>\n",
       "</div>"
      ],
      "text/plain": [
       "             grade         male    preschool  expectBachelors     motherHS  \\\n",
       "count  3663.000000  3663.000000  3607.000000      3601.000000  3566.000000   \n",
       "mean     10.089817     0.511057     0.722761         0.785893     0.879978   \n",
       "std       0.554375     0.499946     0.447697         0.410259     0.325033   \n",
       "min       8.000000     0.000000     0.000000         0.000000     0.000000   \n",
       "25%      10.000000     0.000000     0.000000         1.000000     1.000000   \n",
       "50%      10.000000     1.000000     1.000000         1.000000     1.000000   \n",
       "75%      10.000000     1.000000     1.000000         1.000000     1.000000   \n",
       "max      12.000000     1.000000     1.000000         1.000000     1.000000   \n",
       "\n",
       "       motherBachelors   motherWork     fatherHS  fatherBachelors  \\\n",
       "count      3266.000000  3570.000000  3418.000000      3094.000000   \n",
       "mean          0.348132     0.734454     0.859274         0.331933   \n",
       "std           0.476451     0.441685     0.347789         0.470983   \n",
       "min           0.000000     0.000000     0.000000         0.000000   \n",
       "25%           0.000000     0.000000     1.000000         0.000000   \n",
       "50%           0.000000     1.000000     1.000000         0.000000   \n",
       "75%           1.000000     1.000000     1.000000         1.000000   \n",
       "max           1.000000     1.000000     1.000000         1.000000   \n",
       "\n",
       "        fatherWork      ...       englishAtHome  computerForSchoolwork  \\\n",
       "count  3430.000000      ...         3592.000000            3598.000000   \n",
       "mean      0.853061      ...            0.871659               0.899389   \n",
       "std       0.354096      ...            0.334515               0.300855   \n",
       "min       0.000000      ...            0.000000               0.000000   \n",
       "25%       1.000000      ...            1.000000               1.000000   \n",
       "50%       1.000000      ...            1.000000               1.000000   \n",
       "75%       1.000000      ...            1.000000               1.000000   \n",
       "max       1.000000      ...            1.000000               1.000000   \n",
       "\n",
       "       read30MinsADay  minutesPerWeekEnglish  studentsInEnglish  \\\n",
       "count     3629.000000            3477.000000        3414.000000   \n",
       "mean         0.289887             266.208225          24.499414   \n",
       "std          0.453772             148.403525           7.184348   \n",
       "min          0.000000               0.000000           1.000000   \n",
       "25%          0.000000             225.000000          20.000000   \n",
       "50%          0.000000             250.000000          25.000000   \n",
       "75%          1.000000             300.000000          30.000000   \n",
       "max          1.000000            2400.000000          75.000000   \n",
       "\n",
       "       schoolHasLibrary  publicSchool        urban   schoolSize  readingScore  \n",
       "count       3520.000000   3663.000000  3663.000000  3501.000000   3663.000000  \n",
       "mean           0.967614      0.933934     0.384930  1369.316767    497.911403  \n",
       "std            0.177049      0.248431     0.486645   869.983618     95.515153  \n",
       "min            0.000000      0.000000     0.000000   100.000000    168.550000  \n",
       "25%            1.000000      1.000000     0.000000   712.000000    431.705000  \n",
       "50%            1.000000      1.000000     0.000000  1212.000000    499.660000  \n",
       "75%            1.000000      1.000000     1.000000  1900.000000    566.230000  \n",
       "max            1.000000      1.000000     1.000000  6694.000000    746.000000  \n",
       "\n",
       "[8 rows x 23 columns]"
      ]
     },
     "execution_count": 9,
     "metadata": {},
     "output_type": "execute_result"
    }
   ],
   "source": [
    "import pandas as pd\n",
    "dataTrain = \"../data/pisa2009train.csv\"\n",
    "dataTest = \"../data/pisa2009test.csv\"\n",
    "dfTrain = pd.read_csv(dataTrain)\n",
    "dfTest = pd.read_csv(dataTest)\n",
    "train = pd.DataFrame(dfTrain)\n",
    "test = pd.DataFrame(dfTest)\n",
    "train.info()\n",
    "train.describe()"
   ]
  },
  {
   "cell_type": "markdown",
   "metadata": {},
   "source": [
    "How many students are there in the training set?"
   ]
  },
  {
   "cell_type": "code",
   "execution_count": 6,
   "metadata": {
    "collapsed": false
   },
   "outputs": [
    {
     "name": "stdout",
     "output_type": "stream",
     "text": [
      "\n",
      "Shape Training set: (3663, 24)\n"
     ]
    }
   ],
   "source": [
    "print(\"\\nShape Training set:\",train.shape)"
   ]
  },
  {
   "cell_type": "markdown",
   "metadata": {},
   "source": [
    "on pisaTrain, what is the average reading test score of males?"
   ]
  },
  {
   "cell_type": "markdown",
   "metadata": {},
   "source": [
    "Of females?"
   ]
  },
  {
   "cell_type": "code",
   "execution_count": 22,
   "metadata": {
    "collapsed": false
   },
   "outputs": [
    {
     "name": "stdout",
     "output_type": "stream",
     "text": [
      "\n",
      "average reading test score of males: 483.53247863247805\n"
     ]
    }
   ],
   "source": [
    "maleTrain = train[train.male==1]\n",
    "femaleTrain = train[train.male==0]\n",
    "maleTrain.readingScore.mean()\n",
    "print(\"\\naverage reading test score of males:\",maleTrain.readingScore.mean())"
   ]
  },
  {
   "cell_type": "code",
   "execution_count": 24,
   "metadata": {
    "collapsed": false
   },
   "outputs": [
    {
     "name": "stdout",
     "output_type": "stream",
     "text": [
      "\n",
      "average reading test score of females: 512.94063093244\n"
     ]
    }
   ],
   "source": [
    "print(\"\\naverage reading test score of females:\",femaleTrain.readingScore.mean())"
   ]
  },
  {
   "cell_type": "code",
   "execution_count": 25,
   "metadata": {
    "collapsed": false
   },
   "outputs": [
    {
     "data": {
      "text/plain": [
       "grade                    False\n",
       "male                     False\n",
       "raceeth                   True\n",
       "preschool                 True\n",
       "expectBachelors           True\n",
       "motherHS                  True\n",
       "motherBachelors           True\n",
       "motherWork                True\n",
       "fatherHS                  True\n",
       "fatherBachelors           True\n",
       "fatherWork                True\n",
       "selfBornUS                True\n",
       "motherBornUS              True\n",
       "fatherBornUS              True\n",
       "englishAtHome             True\n",
       "computerForSchoolwork     True\n",
       "read30MinsADay            True\n",
       "minutesPerWeekEnglish     True\n",
       "studentsInEnglish         True\n",
       "schoolHasLibrary          True\n",
       "publicSchool             False\n",
       "urban                    False\n",
       "schoolSize                True\n",
       "readingScore             False\n",
       "dtype: bool"
      ]
     },
     "execution_count": 25,
     "metadata": {},
     "output_type": "execute_result"
    }
   ],
   "source": [
    "pd.isnull(train).sum() > 0"
   ]
  },
  {
   "cell_type": "markdown",
   "metadata": {},
   "source": [
    "Linear regression discards observations with missing data, so we will remove all such observations from the training and\n",
    "testing sets. Later in the course, we will learn about imputation, which deals with missing data by filling in missing values\n",
    "with plausible information."
   ]
  },
  {
   "cell_type": "code",
   "execution_count": 30,
   "metadata": {
    "collapsed": false
   },
   "outputs": [
    {
     "data": {
      "text/plain": [
       "(2414, 24)"
      ]
     },
     "execution_count": 30,
     "metadata": {},
     "output_type": "execute_result"
    }
   ],
   "source": [
    "pisaTrain = train.dropna()\n",
    "pisaTrain.shape"
   ]
  },
  {
   "cell_type": "code",
   "execution_count": 31,
   "metadata": {
    "collapsed": false
   },
   "outputs": [
    {
     "data": {
      "text/plain": [
       "(990, 24)"
      ]
     },
     "execution_count": 31,
     "metadata": {},
     "output_type": "execute_result"
    }
   ],
   "source": [
    "pisaTest = test.dropna()\n",
    "pisaTest.shape"
   ]
  },
  {
   "cell_type": "markdown",
   "metadata": {},
   "source": [
    "Factor variables are variables that take on a discrete set of values, like the \"Region\" variable in the WHO dataset from the\n",
    "second lecture of Unit 1. This is an unordered factor because there isn't any natural ordering between the levels. An\n",
    "ordered factor has a natural ordering between the levels (an example would be the classifications \"large,\" \"medium,\" and\n",
    "\"small\")."
   ]
  }
 ],
 "metadata": {
  "kernelspec": {
   "display_name": "Python 3",
   "language": "python",
   "name": "python3"
  },
  "language_info": {
   "codemirror_mode": {
    "name": "ipython",
    "version": 3
   },
   "file_extension": ".py",
   "mimetype": "text/x-python",
   "name": "python",
   "nbconvert_exporter": "python",
   "pygments_lexer": "ipython3",
   "version": "3.6.0"
  }
 },
 "nbformat": 4,
 "nbformat_minor": 2
}
