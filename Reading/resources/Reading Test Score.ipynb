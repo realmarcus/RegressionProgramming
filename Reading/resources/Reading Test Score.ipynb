{
 "cells": [
  {
   "cell_type": "markdown",
   "metadata": {},
   "source": [
    "# READING TEST SCORES"
   ]
  },
  {
   "cell_type": "markdown",
   "metadata": {},
   "source": [
    "The Programme for International Student Assessment (PISA) is a test given every three years to 15-year-old students from\n",
    "around the world to evaluate their performance in mathematics, reading, and science. This test provides a quantitative way\n",
    "to compare the performance of students from different parts of the world. In this homework assignment, we will predict\n",
    "the reading scores of students from the United States of America on the 2009 PISA exam.\n",
    "\n",
    "The datasets pisa2009train.csv and pisa2009test.csv contain information about the demographics and schools for\n",
    "American students taking the exam, derived from 2009 PISA Public-Use Data Files distributed by the United States National\n",
    "Center for Education Statistics (NCES). While the datasets are not supposed to contain identifying information about\n",
    "students taking the test, by using the data you are bound by the NCES data use agreement, which prohibits any attempt to\n",
    "determine the identity of any student in the datasets.\n",
    "\n",
    "Each row in the datasets pisa2009train.csv and pisa2009test.csv represents one student taking the exam. The datasets\n",
    "have the following variables:"
   ]
  },
  {
   "cell_type": "markdown",
   "metadata": {},
   "source": [
    "## Data"
   ]
  },
  {
   "cell_type": "markdown",
   "metadata": {},
   "source": [
    "Each row in the datasets pisa2009train.csv and pisa2009test.csv represents one student taking the exam. The datasets have the following variables:\n",
    "\n",
    "grade: The grade in school of the student (most 15-year-olds in America are in 10th grade)\n",
    "\n",
    "male:Whether the student is male (1/0)\n",
    "\n",
    "raceeth:The race/ethnicity composite of the student\n",
    "\n",
    "preschool:Whether the student attended preschool (1/0)\n",
    "\n",
    "expectBachelors:Whether the student expects to obtain a bachelor's degree (1/0)\n",
    "\n",
    "motherHS:Whether the student's mother completed high school (1/0)\n",
    "\n",
    "motherBachelors:Whether the student's mother obtained a bachelor's degree (1/0)\n",
    "\n",
    "motherWork:Whether the student's mother has part-time or full-time work (1/0)\n",
    "\n",
    "fatherHS:Whether the student's father completed high school (1/0)\n",
    "\n",
    "fatherBachelors:Whether the student's father obtained a bachelor's degree (1/0)\n",
    "\n",
    "fatherWork:Whether the student's father has part-time or full-time work (1/0)\n",
    "\n",
    "selfBornUS:Whether the student was born in the United States of America (1/0)\n",
    "\n",
    "motherBornUS:Whether the student's mother was born in the United States of America (1/0)\n",
    "\n",
    "fatherBornUS:Whether the student's father was born in the United States of America (1/0)\n",
    "\n",
    "englishAtHome:Whether the student speaks English at home (1/0)\n",
    "\n",
    "computerForSchoolwork:Whether the student has access to a computer for schoolwork (1/0)\n",
    "\n",
    "read30MinsADay:Whether the student reads for pleasure for 30 minutes/day (1/0)\n",
    "\n",
    "minutesPerWeekEnglish:The number of minutes per week the student spend in English class\n",
    "\n",
    "studentsInEnglish:The number of students in this student's English class at school\n",
    "\n",
    "schoolHasLibrary:Whether this student's school has a library (1/0)\n",
    "\n",
    "publicSchool:Whether this student attends a public school (1/0)\n",
    "\n",
    "urban:Whether this student's school is in an urban area (1/0)\n",
    "\n",
    "schoolSize: The number of students in this student's school\n",
    "\n",
    "readingScore:The student's reading score, on a 1000-point scale"
   ]
  },
  {
   "cell_type": "markdown",
   "metadata": {},
   "source": [
    "##  DATASET SIZE"
   ]
  },
  {
   "cell_type": "markdown",
   "metadata": {},
   "source": [
    "Load the training and testing sets using the read.csv() function, and save them as variables with the names pisaTrain and pisaTest."
   ]
  },
  {
   "cell_type": "code",
   "execution_count": 1,
   "metadata": {
    "collapsed": false
   },
   "outputs": [],
   "source": [
    "import pandas as pd\n",
    "dataTrain = \"../data/pisa2009train.csv\"\n",
    "dataTest = \"../data/pisa2009test.csv\"\n",
    "dfTrain = pd.read_csv(dataTrain)\n",
    "dfTest = pd.read_csv(dataTest)\n",
    "train = pd.DataFrame(dfTrain)\n",
    "test = pd.DataFrame(dfTest)"
   ]
  },
  {
   "cell_type": "code",
   "execution_count": 2,
   "metadata": {
    "collapsed": true
   },
   "outputs": [],
   "source": [
    "### Training set: Analsysis 1"
   ]
  },
  {
   "cell_type": "code",
   "execution_count": 3,
   "metadata": {
    "collapsed": false
   },
   "outputs": [
    {
     "name": "stdout",
     "output_type": "stream",
     "text": [
      "<class 'pandas.core.frame.DataFrame'>\n",
      "RangeIndex: 3663 entries, 0 to 3662\n",
      "Data columns (total 24 columns):\n",
      "grade                    3663 non-null int64\n",
      "male                     3663 non-null int64\n",
      "raceeth                  3628 non-null object\n",
      "preschool                3607 non-null float64\n",
      "expectBachelors          3601 non-null float64\n",
      "motherHS                 3566 non-null float64\n",
      "motherBachelors          3266 non-null float64\n",
      "motherWork               3570 non-null float64\n",
      "fatherHS                 3418 non-null float64\n",
      "fatherBachelors          3094 non-null float64\n",
      "fatherWork               3430 non-null float64\n",
      "selfBornUS               3594 non-null float64\n",
      "motherBornUS             3592 non-null float64\n",
      "fatherBornUS             3550 non-null float64\n",
      "englishAtHome            3592 non-null float64\n",
      "computerForSchoolwork    3598 non-null float64\n",
      "read30MinsADay           3629 non-null float64\n",
      "minutesPerWeekEnglish    3477 non-null float64\n",
      "studentsInEnglish        3414 non-null float64\n",
      "schoolHasLibrary         3520 non-null float64\n",
      "publicSchool             3663 non-null int64\n",
      "urban                    3663 non-null int64\n",
      "schoolSize               3501 non-null float64\n",
      "readingScore             3663 non-null float64\n",
      "dtypes: float64(19), int64(4), object(1)\n",
      "memory usage: 686.9+ KB\n"
     ]
    }
   ],
   "source": [
    "train.info()"
   ]
  },
  {
   "cell_type": "code",
   "execution_count": 4,
   "metadata": {
    "collapsed": false
   },
   "outputs": [],
   "source": [
    "import seaborn as sns\n",
    "import matplotlib.pyplot as plt\n",
    "#scatterplot\n",
    "#sns.set()\n",
    "#cols = ['readingScore', 'grade', 'male', 'publicSchool', 'urban']\n",
    "#sns.pairplot(train[cols], size = 2.5)\n",
    "#plt.show();"
   ]
  },
  {
   "cell_type": "code",
   "execution_count": 5,
   "metadata": {
    "collapsed": true
   },
   "outputs": [],
   "source": [
    "### Training set: Analysis 2"
   ]
  },
  {
   "cell_type": "code",
   "execution_count": 6,
   "metadata": {
    "collapsed": false
   },
   "outputs": [
    {
     "data": {
      "text/html": [
       "<div>\n",
       "<table border=\"1\" class=\"dataframe\">\n",
       "  <thead>\n",
       "    <tr style=\"text-align: right;\">\n",
       "      <th></th>\n",
       "      <th>grade</th>\n",
       "      <th>male</th>\n",
       "      <th>preschool</th>\n",
       "      <th>expectBachelors</th>\n",
       "      <th>motherHS</th>\n",
       "      <th>motherBachelors</th>\n",
       "      <th>motherWork</th>\n",
       "      <th>fatherHS</th>\n",
       "      <th>fatherBachelors</th>\n",
       "      <th>fatherWork</th>\n",
       "      <th>...</th>\n",
       "      <th>englishAtHome</th>\n",
       "      <th>computerForSchoolwork</th>\n",
       "      <th>read30MinsADay</th>\n",
       "      <th>minutesPerWeekEnglish</th>\n",
       "      <th>studentsInEnglish</th>\n",
       "      <th>schoolHasLibrary</th>\n",
       "      <th>publicSchool</th>\n",
       "      <th>urban</th>\n",
       "      <th>schoolSize</th>\n",
       "      <th>readingScore</th>\n",
       "    </tr>\n",
       "  </thead>\n",
       "  <tbody>\n",
       "    <tr>\n",
       "      <th>count</th>\n",
       "      <td>3663.000000</td>\n",
       "      <td>3663.000000</td>\n",
       "      <td>3607.000000</td>\n",
       "      <td>3601.000000</td>\n",
       "      <td>3566.000000</td>\n",
       "      <td>3266.000000</td>\n",
       "      <td>3570.000000</td>\n",
       "      <td>3418.000000</td>\n",
       "      <td>3094.000000</td>\n",
       "      <td>3430.000000</td>\n",
       "      <td>...</td>\n",
       "      <td>3592.000000</td>\n",
       "      <td>3598.000000</td>\n",
       "      <td>3629.000000</td>\n",
       "      <td>3477.000000</td>\n",
       "      <td>3414.000000</td>\n",
       "      <td>3520.000000</td>\n",
       "      <td>3663.000000</td>\n",
       "      <td>3663.000000</td>\n",
       "      <td>3501.000000</td>\n",
       "      <td>3663.000000</td>\n",
       "    </tr>\n",
       "    <tr>\n",
       "      <th>mean</th>\n",
       "      <td>10.089817</td>\n",
       "      <td>0.511057</td>\n",
       "      <td>0.722761</td>\n",
       "      <td>0.785893</td>\n",
       "      <td>0.879978</td>\n",
       "      <td>0.348132</td>\n",
       "      <td>0.734454</td>\n",
       "      <td>0.859274</td>\n",
       "      <td>0.331933</td>\n",
       "      <td>0.853061</td>\n",
       "      <td>...</td>\n",
       "      <td>0.871659</td>\n",
       "      <td>0.899389</td>\n",
       "      <td>0.289887</td>\n",
       "      <td>266.208225</td>\n",
       "      <td>24.499414</td>\n",
       "      <td>0.967614</td>\n",
       "      <td>0.933934</td>\n",
       "      <td>0.384930</td>\n",
       "      <td>1369.316767</td>\n",
       "      <td>497.911403</td>\n",
       "    </tr>\n",
       "    <tr>\n",
       "      <th>std</th>\n",
       "      <td>0.554375</td>\n",
       "      <td>0.499946</td>\n",
       "      <td>0.447697</td>\n",
       "      <td>0.410259</td>\n",
       "      <td>0.325033</td>\n",
       "      <td>0.476451</td>\n",
       "      <td>0.441685</td>\n",
       "      <td>0.347789</td>\n",
       "      <td>0.470983</td>\n",
       "      <td>0.354096</td>\n",
       "      <td>...</td>\n",
       "      <td>0.334515</td>\n",
       "      <td>0.300855</td>\n",
       "      <td>0.453772</td>\n",
       "      <td>148.403525</td>\n",
       "      <td>7.184348</td>\n",
       "      <td>0.177049</td>\n",
       "      <td>0.248431</td>\n",
       "      <td>0.486645</td>\n",
       "      <td>869.983618</td>\n",
       "      <td>95.515153</td>\n",
       "    </tr>\n",
       "    <tr>\n",
       "      <th>min</th>\n",
       "      <td>8.000000</td>\n",
       "      <td>0.000000</td>\n",
       "      <td>0.000000</td>\n",
       "      <td>0.000000</td>\n",
       "      <td>0.000000</td>\n",
       "      <td>0.000000</td>\n",
       "      <td>0.000000</td>\n",
       "      <td>0.000000</td>\n",
       "      <td>0.000000</td>\n",
       "      <td>0.000000</td>\n",
       "      <td>...</td>\n",
       "      <td>0.000000</td>\n",
       "      <td>0.000000</td>\n",
       "      <td>0.000000</td>\n",
       "      <td>0.000000</td>\n",
       "      <td>1.000000</td>\n",
       "      <td>0.000000</td>\n",
       "      <td>0.000000</td>\n",
       "      <td>0.000000</td>\n",
       "      <td>100.000000</td>\n",
       "      <td>168.550000</td>\n",
       "    </tr>\n",
       "    <tr>\n",
       "      <th>25%</th>\n",
       "      <td>10.000000</td>\n",
       "      <td>0.000000</td>\n",
       "      <td>0.000000</td>\n",
       "      <td>1.000000</td>\n",
       "      <td>1.000000</td>\n",
       "      <td>0.000000</td>\n",
       "      <td>0.000000</td>\n",
       "      <td>1.000000</td>\n",
       "      <td>0.000000</td>\n",
       "      <td>1.000000</td>\n",
       "      <td>...</td>\n",
       "      <td>1.000000</td>\n",
       "      <td>1.000000</td>\n",
       "      <td>0.000000</td>\n",
       "      <td>225.000000</td>\n",
       "      <td>20.000000</td>\n",
       "      <td>1.000000</td>\n",
       "      <td>1.000000</td>\n",
       "      <td>0.000000</td>\n",
       "      <td>712.000000</td>\n",
       "      <td>431.705000</td>\n",
       "    </tr>\n",
       "    <tr>\n",
       "      <th>50%</th>\n",
       "      <td>10.000000</td>\n",
       "      <td>1.000000</td>\n",
       "      <td>1.000000</td>\n",
       "      <td>1.000000</td>\n",
       "      <td>1.000000</td>\n",
       "      <td>0.000000</td>\n",
       "      <td>1.000000</td>\n",
       "      <td>1.000000</td>\n",
       "      <td>0.000000</td>\n",
       "      <td>1.000000</td>\n",
       "      <td>...</td>\n",
       "      <td>1.000000</td>\n",
       "      <td>1.000000</td>\n",
       "      <td>0.000000</td>\n",
       "      <td>250.000000</td>\n",
       "      <td>25.000000</td>\n",
       "      <td>1.000000</td>\n",
       "      <td>1.000000</td>\n",
       "      <td>0.000000</td>\n",
       "      <td>1212.000000</td>\n",
       "      <td>499.660000</td>\n",
       "    </tr>\n",
       "    <tr>\n",
       "      <th>75%</th>\n",
       "      <td>10.000000</td>\n",
       "      <td>1.000000</td>\n",
       "      <td>1.000000</td>\n",
       "      <td>1.000000</td>\n",
       "      <td>1.000000</td>\n",
       "      <td>1.000000</td>\n",
       "      <td>1.000000</td>\n",
       "      <td>1.000000</td>\n",
       "      <td>1.000000</td>\n",
       "      <td>1.000000</td>\n",
       "      <td>...</td>\n",
       "      <td>1.000000</td>\n",
       "      <td>1.000000</td>\n",
       "      <td>1.000000</td>\n",
       "      <td>300.000000</td>\n",
       "      <td>30.000000</td>\n",
       "      <td>1.000000</td>\n",
       "      <td>1.000000</td>\n",
       "      <td>1.000000</td>\n",
       "      <td>1900.000000</td>\n",
       "      <td>566.230000</td>\n",
       "    </tr>\n",
       "    <tr>\n",
       "      <th>max</th>\n",
       "      <td>12.000000</td>\n",
       "      <td>1.000000</td>\n",
       "      <td>1.000000</td>\n",
       "      <td>1.000000</td>\n",
       "      <td>1.000000</td>\n",
       "      <td>1.000000</td>\n",
       "      <td>1.000000</td>\n",
       "      <td>1.000000</td>\n",
       "      <td>1.000000</td>\n",
       "      <td>1.000000</td>\n",
       "      <td>...</td>\n",
       "      <td>1.000000</td>\n",
       "      <td>1.000000</td>\n",
       "      <td>1.000000</td>\n",
       "      <td>2400.000000</td>\n",
       "      <td>75.000000</td>\n",
       "      <td>1.000000</td>\n",
       "      <td>1.000000</td>\n",
       "      <td>1.000000</td>\n",
       "      <td>6694.000000</td>\n",
       "      <td>746.000000</td>\n",
       "    </tr>\n",
       "  </tbody>\n",
       "</table>\n",
       "<p>8 rows × 23 columns</p>\n",
       "</div>"
      ],
      "text/plain": [
       "             grade         male    preschool  expectBachelors     motherHS  \\\n",
       "count  3663.000000  3663.000000  3607.000000      3601.000000  3566.000000   \n",
       "mean     10.089817     0.511057     0.722761         0.785893     0.879978   \n",
       "std       0.554375     0.499946     0.447697         0.410259     0.325033   \n",
       "min       8.000000     0.000000     0.000000         0.000000     0.000000   \n",
       "25%      10.000000     0.000000     0.000000         1.000000     1.000000   \n",
       "50%      10.000000     1.000000     1.000000         1.000000     1.000000   \n",
       "75%      10.000000     1.000000     1.000000         1.000000     1.000000   \n",
       "max      12.000000     1.000000     1.000000         1.000000     1.000000   \n",
       "\n",
       "       motherBachelors   motherWork     fatherHS  fatherBachelors  \\\n",
       "count      3266.000000  3570.000000  3418.000000      3094.000000   \n",
       "mean          0.348132     0.734454     0.859274         0.331933   \n",
       "std           0.476451     0.441685     0.347789         0.470983   \n",
       "min           0.000000     0.000000     0.000000         0.000000   \n",
       "25%           0.000000     0.000000     1.000000         0.000000   \n",
       "50%           0.000000     1.000000     1.000000         0.000000   \n",
       "75%           1.000000     1.000000     1.000000         1.000000   \n",
       "max           1.000000     1.000000     1.000000         1.000000   \n",
       "\n",
       "        fatherWork      ...       englishAtHome  computerForSchoolwork  \\\n",
       "count  3430.000000      ...         3592.000000            3598.000000   \n",
       "mean      0.853061      ...            0.871659               0.899389   \n",
       "std       0.354096      ...            0.334515               0.300855   \n",
       "min       0.000000      ...            0.000000               0.000000   \n",
       "25%       1.000000      ...            1.000000               1.000000   \n",
       "50%       1.000000      ...            1.000000               1.000000   \n",
       "75%       1.000000      ...            1.000000               1.000000   \n",
       "max       1.000000      ...            1.000000               1.000000   \n",
       "\n",
       "       read30MinsADay  minutesPerWeekEnglish  studentsInEnglish  \\\n",
       "count     3629.000000            3477.000000        3414.000000   \n",
       "mean         0.289887             266.208225          24.499414   \n",
       "std          0.453772             148.403525           7.184348   \n",
       "min          0.000000               0.000000           1.000000   \n",
       "25%          0.000000             225.000000          20.000000   \n",
       "50%          0.000000             250.000000          25.000000   \n",
       "75%          1.000000             300.000000          30.000000   \n",
       "max          1.000000            2400.000000          75.000000   \n",
       "\n",
       "       schoolHasLibrary  publicSchool        urban   schoolSize  readingScore  \n",
       "count       3520.000000   3663.000000  3663.000000  3501.000000   3663.000000  \n",
       "mean           0.967614      0.933934     0.384930  1369.316767    497.911403  \n",
       "std            0.177049      0.248431     0.486645   869.983618     95.515153  \n",
       "min            0.000000      0.000000     0.000000   100.000000    168.550000  \n",
       "25%            1.000000      1.000000     0.000000   712.000000    431.705000  \n",
       "50%            1.000000      1.000000     0.000000  1212.000000    499.660000  \n",
       "75%            1.000000      1.000000     1.000000  1900.000000    566.230000  \n",
       "max            1.000000      1.000000     1.000000  6694.000000    746.000000  \n",
       "\n",
       "[8 rows x 23 columns]"
      ]
     },
     "execution_count": 6,
     "metadata": {},
     "output_type": "execute_result"
    }
   ],
   "source": [
    "train.describe()"
   ]
  },
  {
   "cell_type": "code",
   "execution_count": 7,
   "metadata": {
    "collapsed": true
   },
   "outputs": [],
   "source": [
    "### Training set: Analysis 3"
   ]
  },
  {
   "cell_type": "code",
   "execution_count": 8,
   "metadata": {
    "collapsed": false
   },
   "outputs": [
    {
     "data": {
      "text/plain": [
       "grade                      int64\n",
       "male                       int64\n",
       "raceeth                   object\n",
       "preschool                float64\n",
       "expectBachelors          float64\n",
       "motherHS                 float64\n",
       "motherBachelors          float64\n",
       "motherWork               float64\n",
       "fatherHS                 float64\n",
       "fatherBachelors          float64\n",
       "fatherWork               float64\n",
       "selfBornUS               float64\n",
       "motherBornUS             float64\n",
       "fatherBornUS             float64\n",
       "englishAtHome            float64\n",
       "computerForSchoolwork    float64\n",
       "read30MinsADay           float64\n",
       "minutesPerWeekEnglish    float64\n",
       "studentsInEnglish        float64\n",
       "schoolHasLibrary         float64\n",
       "publicSchool               int64\n",
       "urban                      int64\n",
       "schoolSize               float64\n",
       "readingScore             float64\n",
       "dtype: object"
      ]
     },
     "execution_count": 8,
     "metadata": {},
     "output_type": "execute_result"
    }
   ],
   "source": [
    "train.dtypes"
   ]
  },
  {
   "cell_type": "markdown",
   "metadata": {},
   "source": [
    "How many students are there in the training set?"
   ]
  },
  {
   "cell_type": "code",
   "execution_count": 9,
   "metadata": {
    "collapsed": false
   },
   "outputs": [
    {
     "name": "stdout",
     "output_type": "stream",
     "text": [
      "\n",
      "Shape Training set: (3663, 24)\n"
     ]
    }
   ],
   "source": [
    "print(\"\\nShape Training set:\",train.shape)"
   ]
  },
  {
   "cell_type": "markdown",
   "metadata": {},
   "source": [
    "on pisaTrain, what is the average reading test score of males?"
   ]
  },
  {
   "cell_type": "markdown",
   "metadata": {},
   "source": [
    "Of females?"
   ]
  },
  {
   "cell_type": "code",
   "execution_count": 10,
   "metadata": {
    "collapsed": false
   },
   "outputs": [
    {
     "name": "stdout",
     "output_type": "stream",
     "text": [
      "\n",
      "average reading test score of males: 483.53247863247805\n"
     ]
    }
   ],
   "source": [
    "maleTrain = train[train.male==1]\n",
    "femaleTrain = train[train.male==0]\n",
    "maleTrain.readingScore.mean()\n",
    "print(\"\\naverage reading test score of males:\",maleTrain.readingScore.mean())"
   ]
  },
  {
   "cell_type": "code",
   "execution_count": 11,
   "metadata": {
    "collapsed": false
   },
   "outputs": [
    {
     "name": "stdout",
     "output_type": "stream",
     "text": [
      "Mean reading score of male Training set:  483.53247863247805 \n",
      "\n",
      "Median reading score of male Training set:  482.34 \n",
      "\n",
      "Mean reading score  of female Training set:  512.94063093244 \n",
      "\n",
      "Median reading score of female Training set:  513.16 \n",
      "\n",
      "Std Dev reading score of male Training set:  97.88091084175241 \n",
      "\n",
      "Std Dev reading score of female Training set:  90.54197014400776 \n",
      "\n"
     ]
    }
   ],
   "source": [
    "import numpy as np\n",
    "print (\"Mean reading score of male Training set: \", np.mean(maleTrain.readingScore), \"\\n\")\n",
    "print (\"Median reading score of male Training set: \", np.median(maleTrain.readingScore), \"\\n\")\n",
    "print (\"Mean reading score  of female Training set: \", np.mean(femaleTrain.readingScore), \"\\n\")\n",
    "print (\"Median reading score of female Training set: \", np.median(femaleTrain.readingScore), \"\\n\")\n",
    "print (\"Std Dev reading score of male Training set: \", np.std(maleTrain.readingScore), \"\\n\")\n",
    "print (\"Std Dev reading score of female Training set: \", np.std(femaleTrain.readingScore), \"\\n\")"
   ]
  },
  {
   "cell_type": "code",
   "execution_count": 12,
   "metadata": {
    "collapsed": false
   },
   "outputs": [
    {
     "name": "stdout",
     "output_type": "stream",
     "text": [
      "\n",
      "average reading test score of females: 512.94063093244\n"
     ]
    }
   ],
   "source": [
    "print(\"\\naverage reading test score of females:\",femaleTrain.readingScore.mean())"
   ]
  },
  {
   "cell_type": "code",
   "execution_count": 13,
   "metadata": {
    "collapsed": false
   },
   "outputs": [
    {
     "data": {
      "text/plain": [
       "grade                    False\n",
       "male                     False\n",
       "raceeth                   True\n",
       "preschool                 True\n",
       "expectBachelors           True\n",
       "motherHS                  True\n",
       "motherBachelors           True\n",
       "motherWork                True\n",
       "fatherHS                  True\n",
       "fatherBachelors           True\n",
       "fatherWork                True\n",
       "selfBornUS                True\n",
       "motherBornUS              True\n",
       "fatherBornUS              True\n",
       "englishAtHome             True\n",
       "computerForSchoolwork     True\n",
       "read30MinsADay            True\n",
       "minutesPerWeekEnglish     True\n",
       "studentsInEnglish         True\n",
       "schoolHasLibrary          True\n",
       "publicSchool             False\n",
       "urban                    False\n",
       "schoolSize                True\n",
       "readingScore             False\n",
       "dtype: bool"
      ]
     },
     "execution_count": 13,
     "metadata": {},
     "output_type": "execute_result"
    }
   ],
   "source": [
    "pd.isnull(train).sum() > 0"
   ]
  },
  {
   "cell_type": "markdown",
   "metadata": {},
   "source": [
    "### Other method"
   ]
  },
  {
   "cell_type": "code",
   "execution_count": 14,
   "metadata": {
    "collapsed": false
   },
   "outputs": [
    {
     "data": {
      "text/plain": [
       "grade                      0\n",
       "male                       0\n",
       "raceeth                   35\n",
       "preschool                 56\n",
       "expectBachelors           62\n",
       "motherHS                  97\n",
       "motherBachelors          397\n",
       "motherWork                93\n",
       "fatherHS                 245\n",
       "fatherBachelors          569\n",
       "fatherWork               233\n",
       "selfBornUS                69\n",
       "motherBornUS              71\n",
       "fatherBornUS             113\n",
       "englishAtHome             71\n",
       "computerForSchoolwork     65\n",
       "read30MinsADay            34\n",
       "minutesPerWeekEnglish    186\n",
       "studentsInEnglish        249\n",
       "schoolHasLibrary         143\n",
       "publicSchool               0\n",
       "urban                      0\n",
       "schoolSize               162\n",
       "readingScore               0\n",
       "dtype: int64"
      ]
     },
     "execution_count": 14,
     "metadata": {},
     "output_type": "execute_result"
    }
   ],
   "source": [
    "train.isnull().sum()"
   ]
  },
  {
   "cell_type": "markdown",
   "metadata": {},
   "source": [
    "Linear regression discards observations with missing data, so we will remove all such observations from the training and\n",
    "testing sets. Later in the course, we will learn about imputation, which deals with missing data by filling in missing values\n",
    "with plausible information."
   ]
  },
  {
   "cell_type": "code",
   "execution_count": 15,
   "metadata": {
    "collapsed": false
   },
   "outputs": [
    {
     "data": {
      "text/plain": [
       "(2414, 24)"
      ]
     },
     "execution_count": 15,
     "metadata": {},
     "output_type": "execute_result"
    }
   ],
   "source": [
    "pisaTrain = train.dropna()\n",
    "pisaTrain.shape"
   ]
  },
  {
   "cell_type": "code",
   "execution_count": 16,
   "metadata": {
    "collapsed": false
   },
   "outputs": [
    {
     "data": {
      "text/plain": [
       "(990, 24)"
      ]
     },
     "execution_count": 16,
     "metadata": {},
     "output_type": "execute_result"
    }
   ],
   "source": [
    "pisaTest = test.dropna()\n",
    "pisaTest.shape"
   ]
  },
  {
   "cell_type": "markdown",
   "metadata": {},
   "source": [
    "Factor variables are variables that take on a discrete set of values, like the \"Region\" variable in the WHO dataset from the\n",
    "second lecture of Unit 1. This is an unordered factor because there isn't any natural ordering between the levels. An\n",
    "ordered factor has a natural ordering between the levels (an example would be the classifications \"large,\" \"medium,\" and\n",
    "\"small\")."
   ]
  },
  {
   "cell_type": "code",
   "execution_count": 17,
   "metadata": {
    "collapsed": true
   },
   "outputs": [],
   "source": [
    "import matplotlib.pyplot as plt"
   ]
  },
  {
   "cell_type": "code",
   "execution_count": 18,
   "metadata": {
    "collapsed": false
   },
   "outputs": [
    {
     "data": {
      "image/png": "[encoded data removed]",
      "text/plain": [
       "<matplotlib.figure.Figure at 0x1dbe5452320>"
      ]
     },
     "metadata": {},
     "output_type": "display_data"
    }
   ],
   "source": [
    "pisaTrain.grade.value_counts().nlargest(10).plot(kind='bar', figsize=(15,5))\n",
    "plt.title(\"Number of student by grade\")\n",
    "plt.ylabel('Number of student')\n",
    "plt.xlabel('grade');\n",
    "plt.show()"
   ]
  },
  {
   "cell_type": "code",
   "execution_count": 19,
   "metadata": {
    "collapsed": false
   },
   "outputs": [
    {
     "data": {
      "image/png": "[encoded data removed]",
      "text/plain": [
       "<matplotlib.figure.Figure at 0x1dbe587fb70>"
      ]
     },
     "metadata": {},
     "output_type": "display_data"
    }
   ],
   "source": [
    "pisaTrain.male.value_counts().nlargest(10).plot(kind='bar', figsize=(15,5))\n",
    "plt.title(\"Number of student by sex\")\n",
    "plt.ylabel('Number of student')\n",
    "plt.xlabel('sex');\n",
    "plt.show()"
   ]
  },
  {
   "cell_type": "code",
   "execution_count": 20,
   "metadata": {
    "collapsed": false
   },
   "outputs": [
    {
     "data": {
      "image/png": "[encoded data removed]",
      "text/plain": [
       "<matplotlib.figure.Figure at 0x1dbe5917e48>"
      ]
     },
     "metadata": {},
     "output_type": "display_data"
    }
   ],
   "source": [
    "pisaTrain.raceeth.value_counts().nlargest(20).plot(kind='bar', figsize=(15,5))\n",
    "plt.title(\"Number of student by race\")\n",
    "plt.ylabel('Number of student')\n",
    "plt.xlabel('race');\n",
    "plt.show()"
   ]
  },
  {
   "cell_type": "markdown",
   "metadata": {},
   "source": [
    "Which of the following variables is an unordered factor with at least 3 levels?\n",
    "\n",
    "->RACEETH"
   ]
  },
  {
   "cell_type": "markdown",
   "metadata": {},
   "source": [
    "Which of the following variables is an ordered factor with at least 3 levels? \n",
    "\n",
    "-> Grade"
   ]
  },
  {
   "cell_type": "markdown",
   "metadata": {},
   "source": [
    "## UNORDERED FACTORS IN REGRESSION MODELS"
   ]
  },
  {
   "cell_type": "markdown",
   "metadata": {},
   "source": [
    "To include unordered factors in a linear regression model, we define one level as the \"reference level\" and add a binary\n",
    "variable for each of the remaining levels. In this way, a factor with n levels is replaced by n-1 binary variables. The reference level is typically selected to be the most frequently occurring level in the dataset.\n",
    "\n",
    "As an example, consider the unordered factor variable \"color\", with levels \"red\", \"green\", and \"blue\". If \"green\" were the\n",
    "reference level, then we would add binary variables \"colorred\" and \"colorblue\" to a linear regression problem. All red\n",
    "examples would have colorred=1 and colorblue=0. All blue examples would have colorred=0 and colorblue=1. All green\n",
    "examples would have colorred=0 and colorblue=0.\n",
    "\n",
    "Now, consider the variable \"raceeth\" in our problem, which has levels \"American Indian/Alaska Native\", \"Asian\", \"Black\",\n",
    "\"Hispanic\", \"More than one race\", \"Native Hawaiian/Other Pacific Islander\", and \"White\". Because it is the most common in\n",
    "our population, we will select White as the reference level."
   ]
  },
  {
   "cell_type": "markdown",
   "metadata": {},
   "source": [
    "Which binary variables will be included in the regression model?"
   ]
  },
  {
   "cell_type": "markdown",
   "metadata": {},
   "source": [
    "raceethAmerican Indian/Alaska Native\n",
    "raceethAsian\n",
    "raceethBlack\n",
    "raceethHispanic\n",
    "raceethMore than one race\n",
    "raceethNative Hawaiian/Other Pacific Islander\n",
    "\n",
    "EXCLUDED:\n",
    "raceethWhite\n",
    "RATIONALE: We create a binary variable for each level except the reference level, so we would create all these variables except for raceethWhite."
   ]
  },
  {
   "cell_type": "code",
   "execution_count": 21,
   "metadata": {
    "collapsed": true
   },
   "outputs": [],
   "source": [
    "## BUILDING A MODEL"
   ]
  },
  {
   "cell_type": "markdown",
   "metadata": {},
   "source": [
    "Because the race variable takes on text values, it was loaded as a factor variable when we read in the dataset with\n",
    "read.csv()"
   ]
  },
  {
   "cell_type": "code",
   "execution_count": 22,
   "metadata": {
    "collapsed": false
   },
   "outputs": [
    {
     "data": {
      "text/plain": [
       "Index(['grade', 'male', 'preschool', 'expectBachelors', 'motherHS',\n",
       "       'motherBachelors', 'motherWork', 'fatherHS', 'fatherBachelors',\n",
       "       'fatherWork', 'selfBornUS', 'motherBornUS', 'fatherBornUS',\n",
       "       'englishAtHome', 'computerForSchoolwork', 'read30MinsADay',\n",
       "       'minutesPerWeekEnglish', 'studentsInEnglish', 'schoolHasLibrary',\n",
       "       'publicSchool', 'urban', 'schoolSize', 'readingScore',\n",
       "       'raceeth_American Indian/Alaska Native', 'raceeth_Asian',\n",
       "       'raceeth_Black', 'raceeth_Hispanic', 'raceeth_More than one race',\n",
       "       'raceeth_Native Hawaiian/Other Pacific Islander'],\n",
       "      dtype='object')"
      ]
     },
     "execution_count": 22,
     "metadata": {},
     "output_type": "execute_result"
    }
   ],
   "source": [
    "pisaTrain = pd.get_dummies(pisaTrain,columns=['raceeth'])\n",
    "pisaTest = pd.get_dummies(pisaTest,columns=['raceeth'])\n",
    "pisaTrain.drop('raceeth_White', axis=1, inplace=True)\n",
    "pisaTest.drop('raceeth_White', axis=1, inplace=True)\n",
    "pisaTrain.columns"
   ]
  },
  {
   "cell_type": "code",
   "execution_count": 23,
   "metadata": {
    "collapsed": false
   },
   "outputs": [
    {
     "data": {
      "text/plain": [
       "grade                                               int64\n",
       "male                                                int64\n",
       "preschool                                         float64\n",
       "expectBachelors                                   float64\n",
       "motherHS                                          float64\n",
       "motherBachelors                                   float64\n",
       "motherWork                                        float64\n",
       "fatherHS                                          float64\n",
       "fatherBachelors                                   float64\n",
       "fatherWork                                        float64\n",
       "selfBornUS                                        float64\n",
       "motherBornUS                                      float64\n",
       "fatherBornUS                                      float64\n",
       "englishAtHome                                     float64\n",
       "computerForSchoolwork                             float64\n",
       "read30MinsADay                                    float64\n",
       "minutesPerWeekEnglish                             float64\n",
       "studentsInEnglish                                 float64\n",
       "schoolHasLibrary                                  float64\n",
       "publicSchool                                        int64\n",
       "urban                                               int64\n",
       "schoolSize                                        float64\n",
       "readingScore                                      float64\n",
       "raceeth_American Indian/Alaska Native               uint8\n",
       "raceeth_Asian                                       uint8\n",
       "raceeth_Black                                       uint8\n",
       "raceeth_Hispanic                                    uint8\n",
       "raceeth_More than one race                          uint8\n",
       "raceeth_Native Hawaiian/Other Pacific Islander      uint8\n",
       "dtype: object"
      ]
     },
     "execution_count": 23,
     "metadata": {},
     "output_type": "execute_result"
    }
   ],
   "source": [
    "pisaTrain.dtypes"
   ]
  },
  {
   "cell_type": "markdown",
   "metadata": {},
   "source": [
    "Now, build a linear regression model (call it lmScore) using the training set to predict readingScore using all the remaining\n",
    "variables.\n",
    "\n",
    "It would be time-consuming to type all the variables, but R and python provide the shorthand notation. Here in R: \"readingScore ~ .\" to mean \"predict readingScore using all the other variables in the data frame.\" The period is used to replace listing out all of the independent variables. As an example, if your dependent variable is called \"Y\", your independent variables are called \"X1\",\"X2\", and \"X3\", and your training data set is called \"Train\", instead of the regular notation:"
   ]
  },
  {
   "cell_type": "code",
   "execution_count": 24,
   "metadata": {
    "collapsed": false
   },
   "outputs": [],
   "source": [
    "#scatterplot\n",
    "# Source: http://bigdata-madesimple.com/how-to-run-linear-regression-in-python-scikit-learn/"
   ]
  },
  {
   "cell_type": "code",
   "execution_count": 25,
   "metadata": {
    "collapsed": true
   },
   "outputs": [],
   "source": [
    "from sklearn import linear_model"
   ]
  },
  {
   "cell_type": "code",
   "execution_count": 26,
   "metadata": {
    "collapsed": false
   },
   "outputs": [
    {
     "data": {
      "text/plain": [
       "LinearRegression(copy_X=True, fit_intercept=True, n_jobs=1, normalize=False)"
      ]
     },
     "execution_count": 26,
     "metadata": {},
     "output_type": "execute_result"
    }
   ],
   "source": [
    "# Create linear regression object\n",
    "lm = linear_model.LinearRegression()\n",
    "y = pisaTrain.readingScore\n",
    "X = pisaTrain.drop('readingScore', axis=1)\n",
    "lm"
   ]
  },
  {
   "cell_type": "code",
   "execution_count": 27,
   "metadata": {
    "collapsed": false
   },
   "outputs": [
    {
     "name": "stdout",
     "output_type": "stream",
     "text": [
      "\n",
      "Shape X: (2414, 28)\n",
      "\n",
      "names X: Index(['grade', 'male', 'preschool', 'expectBachelors', 'motherHS',\n",
      "       'motherBachelors', 'motherWork', 'fatherHS', 'fatherBachelors',\n",
      "       'fatherWork', 'selfBornUS', 'motherBornUS', 'fatherBornUS',\n",
      "       'englishAtHome', 'computerForSchoolwork', 'read30MinsADay',\n",
      "       'minutesPerWeekEnglish', 'studentsInEnglish', 'schoolHasLibrary',\n",
      "       'publicSchool', 'urban', 'schoolSize',\n",
      "       'raceeth_American Indian/Alaska Native', 'raceeth_Asian',\n",
      "       'raceeth_Black', 'raceeth_Hispanic', 'raceeth_More than one race',\n",
      "       'raceeth_Native Hawaiian/Other Pacific Islander'],\n",
      "      dtype='object')\n",
      "\n",
      "nb of coefficients:\n",
      " 28\n",
      "\n",
      "Coef:\n",
      " [  2.95427071e+01  -1.45216535e+01  -4.46367032e+00   5.52670801e+01\n",
      "   6.05877432e+00   1.26380678e+01  -2.80910060e+00   4.01821353e+00\n",
      "   1.69297547e+01   5.84279834e+00  -3.80627792e+00  -8.79815308e+00\n",
      "   4.30699432e+00   8.03568537e+00   2.25002323e+01   3.48719242e+01\n",
      "   1.27884515e-02  -2.86630774e-01   1.22150850e+01  -1.68574750e+01\n",
      "  -1.10131762e-01   6.54038148e-03  -6.72773271e+01  -4.11032516e+00\n",
      "  -6.70123471e+01  -3.89754856e+01  -1.69225220e+01  -5.10160086e+00]\n",
      "\n",
      "Intercept:\n",
      " 143.766333432\n",
      "\n",
      "Params:\n",
      " <bound method BaseEstimator.get_params of LinearRegression(copy_X=True, fit_intercept=True, n_jobs=1, normalize=False)>\n",
      "\n",
      "Residues:\n",
      " 12993364.9869\n"
     ]
    },
    {
     "name": "stderr",
     "output_type": "stream",
     "text": [
      "C:\\Users\\Diallo\\Anaconda3\\lib\\site-packages\\sklearn\\utils\\deprecation.py:70: DeprecationWarning: Function residues_ is deprecated; ``residues_`` is deprecated and will be removed in 0.19\n",
      "  warnings.warn(msg, category=DeprecationWarning)\n"
     ]
    }
   ],
   "source": [
    "# Train the model using the training sets\n",
    "lm.fit(X=X,y=y)\n",
    "print(\"\\nShape X:\",X.shape)\n",
    "print(\"\\nnames X:\",X.columns)\n",
    "print(\"\\nnb of coefficients:\\n\",len(lm.coef_))\n",
    "print(\"\\nCoef:\\n\",lm.coef_)\n",
    "print(\"\\nIntercept:\\n\",lm.intercept_)\n",
    "print(\"\\nParams:\\n\",lm.get_params)\n",
    "print(\"\\nResidues:\\n\",lm.residues_)"
   ]
  }
 ],
 "metadata": {
  "kernelspec": {
   "display_name": "Python 3",
   "language": "python",
   "name": "python3"
  },
  "language_info": {
   "codemirror_mode": {
    "name": "ipython",
    "version": 3
   },
   "file_extension": ".py",
   "mimetype": "text/x-python",
   "name": "python",
   "nbconvert_exporter": "python",
   "pygments_lexer": "ipython3",
   "version": "3.6.0"
  }
 },
 "nbformat": 4,
 "nbformat_minor": 2
}
