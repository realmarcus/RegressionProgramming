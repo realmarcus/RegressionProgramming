{
 "cells": [
  {
   "cell_type": "markdown",
   "metadata": {},
   "source": [
    "# READING TEST SCORES"
   ]
  },
  {
   "cell_type": "markdown",
   "metadata": {},
   "source": [
    "The Programme for International Student Assessment (PISA) is a test given every three years to 15-year-old students from\n",
    "around the world to evaluate their performance in mathematics, reading, and science. This test provides a quantitative way\n",
    "to compare the performance of students from different parts of the world. In this homework assignment, we will predict\n",
    "the reading scores of students from the United States of America on the 2009 PISA exam.\n",
    "\n",
    "The datasets pisa2009train.csv and pisa2009test.csv contain information about the demographics and schools for\n",
    "American students taking the exam, derived from 2009 PISA Public-Use Data Files distributed by the United States National\n",
    "Center for Education Statistics (NCES). While the datasets are not supposed to contain identifying information about\n",
    "students taking the test, by using the data you are bound by the NCES data use agreement, which prohibits any attempt to\n",
    "determine the identity of any student in the datasets.\n",
    "\n",
    "Each row in the datasets pisa2009train.csv and pisa2009test.csv represents one student taking the exam. The datasets\n",
    "have the following variables:"
   ]
  },
  {
   "cell_type": "markdown",
   "metadata": {},
   "source": [
    "## Data"
   ]
  },
  {
   "cell_type": "markdown",
   "metadata": {},
   "source": [
    "Each row in the datasets pisa2009train.csv and pisa2009test.csv represents one student taking the exam. The datasets have the following variables:\n",
    "\n",
    "grade: The grade in school of the student (most 15-year-olds in America are in 10th grade)\n",
    "\n",
    "male:Whether the student is male (1/0)\n",
    "\n",
    "raceeth:The race/ethnicity composite of the student\n",
    "\n",
    "preschool:Whether the student attended preschool (1/0)\n",
    "\n",
    "expectBachelors:Whether the student expects to obtain a bachelor's degree (1/0)\n",
    "\n",
    "motherHS:Whether the student's mother completed high school (1/0)\n",
    "\n",
    "motherBachelors:Whether the student's mother obtained a bachelor's degree (1/0)\n",
    "\n",
    "motherWork:Whether the student's mother has part-time or full-time work (1/0)\n",
    "\n",
    "fatherHS:Whether the student's father completed high school (1/0)\n",
    "\n",
    "fatherBachelors:Whether the student's father obtained a bachelor's degree (1/0)\n",
    "\n",
    "fatherWork:Whether the student's father has part-time or full-time work (1/0)\n",
    "\n",
    "selfBornUS:Whether the student was born in the United States of America (1/0)\n",
    "\n",
    "motherBornUS:Whether the student's mother was born in the United States of America (1/0)\n",
    "\n",
    "fatherBornUS:Whether the student's father was born in the United States of America (1/0)\n",
    "\n",
    "englishAtHome:Whether the student speaks English at home (1/0)\n",
    "\n",
    "computerForSchoolwork:Whether the student has access to a computer for schoolwork (1/0)\n",
    "\n",
    "read30MinsADay:Whether the student reads for pleasure for 30 minutes/day (1/0)\n",
    "\n",
    "minutesPerWeekEnglish:The number of minutes per week the student spend in English class\n",
    "\n",
    "studentsInEnglish:The number of students in this student's English class at school\n",
    "\n",
    "schoolHasLibrary:Whether this student's school has a library (1/0)\n",
    "\n",
    "publicSchool:Whether this student attends a public school (1/0)\n",
    "\n",
    "urban:Whether this student's school is in an urban area (1/0)\n",
    "\n",
    "schoolSize: The number of students in this student's school\n",
    "\n",
    "readingScore:The student's reading score, on a 1000-point scale"
   ]
  },
  {
   "cell_type": "markdown",
   "metadata": {},
   "source": [
    "##  DATASET SIZE"
   ]
  },
  {
   "cell_type": "markdown",
   "metadata": {},
   "source": [
    "Load the training and testing sets using the read.csv() function, and save them as variables with the names pisaTrain and pisaTest."
   ]
  },
  {
   "cell_type": "code",
   "execution_count": 5,
   "metadata": {
    "collapsed": false
   },
   "outputs": [],
   "source": [
    "import pandas as pd\n",
    "dataTrain = \"../data/pisa2009train.csv\"\n",
    "dataTest = \"../data/pisa2009test.csv\"\n",
    "dfTrain = pd.read_csv(dataTrain)\n",
    "dfTest = pd.read_csv(dataTest)\n",
    "train = pd.DataFrame(dfTrain)\n",
    "test = pd.DataFrame(dfTest)"
   ]
  },
  {
   "cell_type": "code",
   "execution_count": 6,
   "metadata": {
    "collapsed": true
   },
   "outputs": [],
   "source": [
    "### Training set: Analsysis 1"
   ]
  },
  {
   "cell_type": "code",
   "execution_count": 7,
   "metadata": {
    "collapsed": false
   },
   "outputs": [
    {
     "name": "stdout",
     "output_type": "stream",
     "text": [
      "<class 'pandas.core.frame.DataFrame'>\n",
      "RangeIndex: 3663 entries, 0 to 3662\n",
      "Data columns (total 24 columns):\n",
      "grade                    3663 non-null int64\n",
      "male                     3663 non-null int64\n",
      "raceeth                  3628 non-null object\n",
      "preschool                3607 non-null float64\n",
      "expectBachelors          3601 non-null float64\n",
      "motherHS                 3566 non-null float64\n",
      "motherBachelors          3266 non-null float64\n",
      "motherWork               3570 non-null float64\n",
      "fatherHS                 3418 non-null float64\n",
      "fatherBachelors          3094 non-null float64\n",
      "fatherWork               3430 non-null float64\n",
      "selfBornUS               3594 non-null float64\n",
      "motherBornUS             3592 non-null float64\n",
      "fatherBornUS             3550 non-null float64\n",
      "englishAtHome            3592 non-null float64\n",
      "computerForSchoolwork    3598 non-null float64\n",
      "read30MinsADay           3629 non-null float64\n",
      "minutesPerWeekEnglish    3477 non-null float64\n",
      "studentsInEnglish        3414 non-null float64\n",
      "schoolHasLibrary         3520 non-null float64\n",
      "publicSchool             3663 non-null int64\n",
      "urban                    3663 non-null int64\n",
      "schoolSize               3501 non-null float64\n",
      "readingScore             3663 non-null float64\n",
      "dtypes: float64(19), int64(4), object(1)\n",
      "memory usage: 686.9+ KB\n"
     ]
    }
   ],
   "source": [
    "train.info()"
   ]
  },
  {
   "cell_type": "code",
   "execution_count": 8,
   "metadata": {
    "collapsed": false
   },
   "outputs": [
    {
     "ename": "NameError",
     "evalue": "name 'plt' is not defined",
     "output_type": "error",
     "traceback": [
      "\u001b[0;31m---------------------------------------------------------------------------\u001b[0m",
      "\u001b[0;31mNameError\u001b[0m                                 Traceback (most recent call last)",
      "\u001b[0;32m<ipython-input-8-a5d3d0d28053>\u001b[0m in \u001b[0;36m<module>\u001b[0;34m()\u001b[0m\n\u001b[1;32m      4\u001b[0m \u001b[0mcols\u001b[0m \u001b[1;33m=\u001b[0m \u001b[1;33m[\u001b[0m\u001b[1;34m'readingScore'\u001b[0m\u001b[1;33m,\u001b[0m \u001b[1;34m'grade'\u001b[0m\u001b[1;33m,\u001b[0m \u001b[1;34m'male'\u001b[0m\u001b[1;33m,\u001b[0m \u001b[1;34m'publicSchool'\u001b[0m\u001b[1;33m,\u001b[0m \u001b[1;34m'urban'\u001b[0m\u001b[1;33m]\u001b[0m\u001b[1;33m\u001b[0m\u001b[0m\n\u001b[1;32m      5\u001b[0m \u001b[0msns\u001b[0m\u001b[1;33m.\u001b[0m\u001b[0mpairplot\u001b[0m\u001b[1;33m(\u001b[0m\u001b[0mtrain\u001b[0m\u001b[1;33m[\u001b[0m\u001b[0mcols\u001b[0m\u001b[1;33m]\u001b[0m\u001b[1;33m,\u001b[0m \u001b[0msize\u001b[0m \u001b[1;33m=\u001b[0m \u001b[1;36m2.5\u001b[0m\u001b[1;33m)\u001b[0m\u001b[1;33m\u001b[0m\u001b[0m\n\u001b[0;32m----> 6\u001b[0;31m \u001b[0mplt\u001b[0m\u001b[1;33m.\u001b[0m\u001b[0mshow\u001b[0m\u001b[1;33m(\u001b[0m\u001b[1;33m)\u001b[0m\u001b[1;33m;\u001b[0m\u001b[1;33m\u001b[0m\u001b[0m\n\u001b[0m",
      "\u001b[0;31mNameError\u001b[0m: name 'plt' is not defined"
     ]
    }
   ],
   "source": [
    "import seaborn as sns\n",
    "import matplotlib.pyplot as plt\n",
    "#scatterplot\n",
    "sns.set()\n",
    "cols = ['readingScore', 'grade', 'male', 'publicSchool', 'urban']\n",
    "sns.pairplot(train[cols], size = 2.5)\n",
    "plt.show();"
   ]
  },
  {
   "cell_type": "code",
   "execution_count": null,
   "metadata": {
    "collapsed": true
   },
   "outputs": [],
   "source": [
    "### Training set: Analysis 2"
   ]
  },
  {
   "cell_type": "code",
   "execution_count": null,
   "metadata": {
    "collapsed": false
   },
   "outputs": [],
   "source": [
    "train.describe()"
   ]
  },
  {
   "cell_type": "code",
   "execution_count": null,
   "metadata": {
    "collapsed": true
   },
   "outputs": [],
   "source": [
    "### Training set: Analysis 3"
   ]
  },
  {
   "cell_type": "code",
   "execution_count": null,
   "metadata": {
    "collapsed": false
   },
   "outputs": [],
   "source": [
    "train.dtypes"
   ]
  },
  {
   "cell_type": "markdown",
   "metadata": {},
   "source": [
    "How many students are there in the training set?"
   ]
  },
  {
   "cell_type": "code",
   "execution_count": null,
   "metadata": {
    "collapsed": false
   },
   "outputs": [],
   "source": [
    "print(\"\\nShape Training set:\",train.shape)"
   ]
  },
  {
   "cell_type": "markdown",
   "metadata": {},
   "source": [
    "on pisaTrain, what is the average reading test score of males?"
   ]
  },
  {
   "cell_type": "markdown",
   "metadata": {},
   "source": [
    "Of females?"
   ]
  },
  {
   "cell_type": "code",
   "execution_count": null,
   "metadata": {
    "collapsed": false
   },
   "outputs": [],
   "source": [
    "maleTrain = train[train.male==1]\n",
    "femaleTrain = train[train.male==0]\n",
    "maleTrain.readingScore.mean()\n",
    "print(\"\\naverage reading test score of males:\",maleTrain.readingScore.mean())"
   ]
  },
  {
   "cell_type": "code",
   "execution_count": null,
   "metadata": {
    "collapsed": true
   },
   "outputs": [],
   "source": [
    "import numpy as np\n",
    "#print (\"Mean of X Training set: \", np.mean(x_training_set), \"\\n\")\n",
    "#print (\"Median of X Training set: \", np.median(x_training_set), \"\\n\")\n",
    "#print (\"Mean of Y Training set: \", np.mean(y_training_set), \"\\n\")\n",
    "#print (\"Median of Y Training set: \", np.median(y_training_set), \"\\n\")\n",
    "#print (\"Std Dev of X Training set: \", np.std(x_training_set), \"\\n\")\n",
    "#print (\"Std Dev of Y Training set: \", np.std(y_training_set), \"\\n\")"
   ]
  },
  {
   "cell_type": "code",
   "execution_count": null,
   "metadata": {
    "collapsed": false
   },
   "outputs": [],
   "source": [
    "print(\"\\naverage reading test score of females:\",femaleTrain.readingScore.mean())"
   ]
  },
  {
   "cell_type": "code",
   "execution_count": null,
   "metadata": {
    "collapsed": false
   },
   "outputs": [],
   "source": [
    "pd.isnull(train).sum() > 0"
   ]
  },
  {
   "cell_type": "markdown",
   "metadata": {},
   "source": [
    "### Other method"
   ]
  },
  {
   "cell_type": "code",
   "execution_count": null,
   "metadata": {
    "collapsed": false
   },
   "outputs": [],
   "source": [
    "train.isnull().sum()"
   ]
  },
  {
   "cell_type": "markdown",
   "metadata": {},
   "source": [
    "Linear regression discards observations with missing data, so we will remove all such observations from the training and\n",
    "testing sets. Later in the course, we will learn about imputation, which deals with missing data by filling in missing values\n",
    "with plausible information."
   ]
  },
  {
   "cell_type": "code",
   "execution_count": null,
   "metadata": {
    "collapsed": false
   },
   "outputs": [],
   "source": [
    "pisaTrain = train.dropna()\n",
    "pisaTrain.shape"
   ]
  },
  {
   "cell_type": "code",
   "execution_count": null,
   "metadata": {
    "collapsed": false
   },
   "outputs": [],
   "source": [
    "pisaTest = test.dropna()\n",
    "pisaTest.shape"
   ]
  },
  {
   "cell_type": "markdown",
   "metadata": {},
   "source": [
    "Factor variables are variables that take on a discrete set of values, like the \"Region\" variable in the WHO dataset from the\n",
    "second lecture of Unit 1. This is an unordered factor because there isn't any natural ordering between the levels. An\n",
    "ordered factor has a natural ordering between the levels (an example would be the classifications \"large,\" \"medium,\" and\n",
    "\"small\")."
   ]
  },
  {
   "cell_type": "code",
   "execution_count": null,
   "metadata": {
    "collapsed": true
   },
   "outputs": [],
   "source": [
    "import matplotlib.pyplot as plt"
   ]
  },
  {
   "cell_type": "code",
   "execution_count": null,
   "metadata": {
    "collapsed": false
   },
   "outputs": [],
   "source": [
    "pisaTrain.grade.value_counts().nlargest(10).plot(kind='bar', figsize=(15,5))\n",
    "plt.title(\"Number of student by grade\")\n",
    "plt.ylabel('Number of student')\n",
    "plt.xlabel('grade');\n",
    "plt.show()"
   ]
  },
  {
   "cell_type": "code",
   "execution_count": null,
   "metadata": {
    "collapsed": false
   },
   "outputs": [],
   "source": [
    "pisaTrain.male.value_counts().nlargest(10).plot(kind='bar', figsize=(15,5))\n",
    "plt.title(\"Number of student by sex\")\n",
    "plt.ylabel('Number of student')\n",
    "plt.xlabel('sex');\n",
    "plt.show()"
   ]
  },
  {
   "cell_type": "code",
   "execution_count": null,
   "metadata": {
    "collapsed": false
   },
   "outputs": [],
   "source": [
    "pisaTrain.raceeth.value_counts().nlargest(20).plot(kind='bar', figsize=(15,5))\n",
    "plt.title(\"Number of student by race\")\n",
    "plt.ylabel('Number of student')\n",
    "plt.xlabel('race');\n",
    "plt.show()"
   ]
  },
  {
   "cell_type": "markdown",
   "metadata": {},
   "source": [
    "Which of the following variables is an unordered factor with at least 3 levels?\n",
    "\n",
    "->RACEETH"
   ]
  },
  {
   "cell_type": "markdown",
   "metadata": {},
   "source": [
    "Which of the following variables is an ordered factor with at least 3 levels? \n",
    "\n",
    "-> Grade"
   ]
  },
  {
   "cell_type": "markdown",
   "metadata": {},
   "source": [
    "## UNORDERED FACTORS IN REGRESSION MODELS"
   ]
  },
  {
   "cell_type": "markdown",
   "metadata": {},
   "source": [
    "To include unordered factors in a linear regression model, we define one level as the \"reference level\" and add a binary\n",
    "variable for each of the remaining levels. In this way, a factor with n levels is replaced by n-1 binary variables. The reference level is typically selected to be the most frequently occurring level in the dataset.\n",
    "\n",
    "As an example, consider the unordered factor variable \"color\", with levels \"red\", \"green\", and \"blue\". If \"green\" were the\n",
    "reference level, then we would add binary variables \"colorred\" and \"colorblue\" to a linear regression problem. All red\n",
    "examples would have colorred=1 and colorblue=0. All blue examples would have colorred=0 and colorblue=1. All green\n",
    "examples would have colorred=0 and colorblue=0.\n",
    "\n",
    "Now, consider the variable \"raceeth\" in our problem, which has levels \"American Indian/Alaska Native\", \"Asian\", \"Black\",\n",
    "\"Hispanic\", \"More than one race\", \"Native Hawaiian/Other Pacific Islander\", and \"White\". Because it is the most common in\n",
    "our population, we will select White as the reference level."
   ]
  },
  {
   "cell_type": "markdown",
   "metadata": {},
   "source": [
    "Which binary variables will be included in the regression model?"
   ]
  },
  {
   "cell_type": "markdown",
   "metadata": {},
   "source": [
    "raceethAmerican Indian/Alaska Native\n",
    "raceethAsian\n",
    "raceethBlack\n",
    "raceethHispanic\n",
    "raceethMore than one race\n",
    "raceethNative Hawaiian/Other Pacific Islander\n",
    "\n",
    "EXCLUDED:\n",
    "raceethWhite\n",
    "RATIONALE: We create a binary variable for each level except the reference level, so we would create all these variables except for raceethWhite."
   ]
  },
  {
   "cell_type": "code",
   "execution_count": null,
   "metadata": {
    "collapsed": true
   },
   "outputs": [],
   "source": [
    "## BUILDING A MODEL"
   ]
  },
  {
   "cell_type": "markdown",
   "metadata": {},
   "source": [
    "Because the race variable takes on text values, it was loaded as a factor variable when we read in the dataset with\n",
    "read.csv()"
   ]
  },
  {
   "cell_type": "code",
   "execution_count": null,
   "metadata": {
    "collapsed": false
   },
   "outputs": [],
   "source": [
    "pisaTrain = pd.get_dummies(pisaTrain,columns=['raceeth'])\n",
    "pisaTest = pd.get_dummies(pisaTest,columns=['raceeth'])\n",
    "pisaTrain.drop('raceeth_White', axis=1, inplace=True)\n",
    "pisaTest.drop('raceeth_White', axis=1, inplace=True)\n",
    "pisaTrain.columns"
   ]
  },
  {
   "cell_type": "code",
   "execution_count": null,
   "metadata": {
    "collapsed": false
   },
   "outputs": [],
   "source": [
    "pisaTrain.dtypes"
   ]
  },
  {
   "cell_type": "markdown",
   "metadata": {},
   "source": [
    "Now, build a linear regression model (call it lmScore) using the training set to predict readingScore using all the remaining\n",
    "variables.\n",
    "\n",
    "It would be time-consuming to type all the variables, but R and python provide the shorthand notation. Here in R: \"readingScore ~ .\" to mean \"predict readingScore using all the other variables in the data frame.\" The period is used to replace listing out all of the independent variables. As an example, if your dependent variable is called \"Y\", your independent variables are called \"X1\",\"X2\", and \"X3\", and your training data set is called \"Train\", instead of the regular notation:"
   ]
  },
  {
   "cell_type": "code",
   "execution_count": null,
   "metadata": {
    "collapsed": false
   },
   "outputs": [],
   "source": [
    "#scatterplot\n",
    "sns.set()\n",
    "cols = ['grade', 'male', 'preschool', 'expectBachelors', 'motherHS',\n",
    "       'motherBachelors', 'motherWork', 'fatherHS', 'fatherBachelors',\n",
    "       'fatherWork', 'selfBornUS', 'motherBornUS', 'fatherBornUS',\n",
    "       'englishAtHome', 'computerForSchoolwork', 'read30MinsADay',\n",
    "       'minutesPerWeekEnglish', 'studentsInEnglish', 'schoolHasLibrary',\n",
    "       'publicSchool', 'urban', 'schoolSize', 'readingScore']\n",
    "sns.pairplot(pisaTrain[cols], size = 2.5)\n",
    "plt.show();"
   ]
  },
  {
   "cell_type": "code",
   "execution_count": null,
   "metadata": {
    "collapsed": true
   },
   "outputs": [],
   "source": [
    "from sklearn import linear_model"
   ]
  },
  {
   "cell_type": "code",
   "execution_count": null,
   "metadata": {
    "collapsed": true
   },
   "outputs": [],
   "source": [
    "# Create linear regression object\n",
    "regr = linear_model.LinearRegression()"
   ]
  },
  {
   "cell_type": "code",
   "execution_count": null,
   "metadata": {
    "collapsed": false
   },
   "outputs": [],
   "source": [
    "# Train the model using the training sets\n",
    "regr.fit(pisaTrain.readingScore,)"
   ]
  }
 ],
 "metadata": {
  "kernelspec": {
   "display_name": "Python 3",
   "language": "python",
   "name": "python3"
  },
  "language_info": {
   "codemirror_mode": {
    "name": "ipython",
    "version": 3
   },
   "file_extension": ".py",
   "mimetype": "text/x-python",
   "name": "python",
   "nbconvert_exporter": "python",
   "pygments_lexer": "ipython3",
   "version": "3.6.0"
  }
 },
 "nbformat": 4,
 "nbformat_minor": 2
}
