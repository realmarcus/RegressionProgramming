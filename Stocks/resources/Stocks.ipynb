{
 "cells": [
  {
   "cell_type": "markdown",
   "metadata": {},
   "source": [
    "# STOCK DYNAMICS"
   ]
  },
  {
   "cell_type": "markdown",
   "metadata": {},
   "source": [
    "A stock market is where buyers and sellers trade shares of a company, and is one of the most popular ways for individuals\n",
    "and companies to invest money. The size of the world stock market is now estimated to be in the trillions. The largest stock\n",
    "market in the world is the New York Stock Exchange (NYSE), located in New York City. About 2,800 companies are listed on\n",
    "the NSYE. In this problem, we'll look at the monthly stock prices of five of these companies: IBM, General Electric (GE),\n",
    "Procter and Gamble, Coca Cola, and Boeing. The data used in this problem comes from Infochimps."
   ]
  },
  {
   "cell_type": "markdown",
   "metadata": {},
   "source": [
    "Call the data frames \"IBM\", \"GE\", \"ProcterGamble\", \"CocaCola\", and \"Boeing\", respectively. Each data frame has two\n",
    "variables, described as follows:\n",
    "Date: the date of the stock price, always given as the first of the month.\n",
    "StockPrice: the average stock price of the company in the given month.\n",
    "In this problem, we'll take a look at how the stock dynamics of these companies have changed over time."
   ]
  },
  {
   "cell_type": "code",
   "execution_count": 22,
   "metadata": {
    "collapsed": true
   },
   "outputs": [],
   "source": [
    "import pandas as pd"
   ]
  },
  {
   "cell_type": "code",
   "execution_count": 23,
   "metadata": {
    "collapsed": false
   },
   "outputs": [],
   "source": [
    "datafile = \"../data/BoeingStock.csv\"\n",
    "f1 = pd.read_csv(datafile,dtype='unicode')\n",
    "Boeing = pd.DataFrame(f1)"
   ]
  },
  {
   "cell_type": "code",
   "execution_count": 24,
   "metadata": {
    "collapsed": true
   },
   "outputs": [],
   "source": [
    "datafile = \"../data/CocaColaStock.csv\"\n",
    "f2 = pd.read_csv(datafile,dtype='unicode')\n",
    "CocaCola = pd.DataFrame(f2)"
   ]
  },
  {
   "cell_type": "code",
   "execution_count": 25,
   "metadata": {
    "collapsed": true
   },
   "outputs": [],
   "source": [
    "datafile = \"../data/GEStock.csv\"\n",
    "f3 = pd.read_csv(datafile,dtype='unicode')\n",
    "GE = pd.DataFrame(f3)"
   ]
  },
  {
   "cell_type": "code",
   "execution_count": 26,
   "metadata": {
    "collapsed": true
   },
   "outputs": [],
   "source": [
    "datafile = \"../data/IBMStock.csv\"\n",
    "f4 = pd.read_csv(datafile,dtype='unicode')\n",
    "IBM = pd.DataFrame(f3)"
   ]
  },
  {
   "cell_type": "code",
   "execution_count": 27,
   "metadata": {
    "collapsed": true
   },
   "outputs": [],
   "source": [
    "datafile = \"../data/ProcterGambleStock.csv\"\n",
    "f5 = pd.read_csv(datafile,dtype='unicode')\n",
    "ProcterGamble = pd.DataFrame(f5)"
   ]
  },
  {
   "cell_type": "markdown",
   "metadata": {},
   "source": [
    "SUMMARY STATISTICS"
   ]
  },
  {
   "cell_type": "markdown",
   "metadata": {},
   "source": [
    "Before working with these data sets, we need to convert the dates into a format that R can understand. Take a look at the\n",
    "structure of one of the datasets using the str function. Right now, the date variable is stored as a factor. We can convert this\n",
    "to a \"Date\" object in R by using the following five commands (one for each data set):"
   ]
  },
  {
   "cell_type": "code",
   "execution_count": 28,
   "metadata": {
    "collapsed": false
   },
   "outputs": [
    {
     "data": {
      "text/html": [
       "<div>\n",
       "<table border=\"1\" class=\"dataframe\">\n",
       "  <thead>\n",
       "    <tr style=\"text-align: right;\">\n",
       "      <th></th>\n",
       "      <th>Date</th>\n",
       "      <th>StockPrice</th>\n",
       "    </tr>\n",
       "  </thead>\n",
       "  <tbody>\n",
       "    <tr>\n",
       "      <th>0</th>\n",
       "      <td>1/1/70</td>\n",
       "      <td>74.25333333</td>\n",
       "    </tr>\n",
       "    <tr>\n",
       "      <th>1</th>\n",
       "      <td>2/1/70</td>\n",
       "      <td>69.97684211</td>\n",
       "    </tr>\n",
       "    <tr>\n",
       "      <th>2</th>\n",
       "      <td>3/1/70</td>\n",
       "      <td>72.15857143</td>\n",
       "    </tr>\n",
       "    <tr>\n",
       "      <th>3</th>\n",
       "      <td>4/1/70</td>\n",
       "      <td>74.25272727</td>\n",
       "    </tr>\n",
       "    <tr>\n",
       "      <th>4</th>\n",
       "      <td>5/1/70</td>\n",
       "      <td>66.6652381</td>\n",
       "    </tr>\n",
       "    <tr>\n",
       "      <th>5</th>\n",
       "      <td>6/1/70</td>\n",
       "      <td>67.59318182</td>\n",
       "    </tr>\n",
       "    <tr>\n",
       "      <th>6</th>\n",
       "      <td>7/1/70</td>\n",
       "      <td>72.69636364</td>\n",
       "    </tr>\n",
       "    <tr>\n",
       "      <th>7</th>\n",
       "      <td>8/1/70</td>\n",
       "      <td>76.14666667</td>\n",
       "    </tr>\n",
       "    <tr>\n",
       "      <th>8</th>\n",
       "      <td>9/1/70</td>\n",
       "      <td>80.46285714</td>\n",
       "    </tr>\n",
       "    <tr>\n",
       "      <th>9</th>\n",
       "      <td>10/1/70</td>\n",
       "      <td>84.69181818</td>\n",
       "    </tr>\n",
       "    <tr>\n",
       "      <th>10</th>\n",
       "      <td>11/1/70</td>\n",
       "      <td>86.3295</td>\n",
       "    </tr>\n",
       "    <tr>\n",
       "      <th>11</th>\n",
       "      <td>12/1/70</td>\n",
       "      <td>89.95818182</td>\n",
       "    </tr>\n",
       "    <tr>\n",
       "      <th>12</th>\n",
       "      <td>1/1/71</td>\n",
       "      <td>96.691</td>\n",
       "    </tr>\n",
       "    <tr>\n",
       "      <th>13</th>\n",
       "      <td>2/1/71</td>\n",
       "      <td>104.15</td>\n",
       "    </tr>\n",
       "    <tr>\n",
       "      <th>14</th>\n",
       "      <td>3/1/71</td>\n",
       "      <td>109.9430435</td>\n",
       "    </tr>\n",
       "    <tr>\n",
       "      <th>15</th>\n",
       "      <td>4/1/71</td>\n",
       "      <td>118.4804762</td>\n",
       "    </tr>\n",
       "    <tr>\n",
       "      <th>16</th>\n",
       "      <td>5/1/71</td>\n",
       "      <td>120.598</td>\n",
       "    </tr>\n",
       "    <tr>\n",
       "      <th>17</th>\n",
       "      <td>6/1/71</td>\n",
       "      <td>73.68272727</td>\n",
       "    </tr>\n",
       "    <tr>\n",
       "      <th>18</th>\n",
       "      <td>7/1/71</td>\n",
       "      <td>57.96666667</td>\n",
       "    </tr>\n",
       "    <tr>\n",
       "      <th>19</th>\n",
       "      <td>8/1/71</td>\n",
       "      <td>58.15545455</td>\n",
       "    </tr>\n",
       "    <tr>\n",
       "      <th>20</th>\n",
       "      <td>9/1/71</td>\n",
       "      <td>62.64380952</td>\n",
       "    </tr>\n",
       "    <tr>\n",
       "      <th>21</th>\n",
       "      <td>10/1/71</td>\n",
       "      <td>61.22761905</td>\n",
       "    </tr>\n",
       "    <tr>\n",
       "      <th>22</th>\n",
       "      <td>11/1/71</td>\n",
       "      <td>57.15095238</td>\n",
       "    </tr>\n",
       "    <tr>\n",
       "      <th>23</th>\n",
       "      <td>12/1/71</td>\n",
       "      <td>62.53</td>\n",
       "    </tr>\n",
       "    <tr>\n",
       "      <th>24</th>\n",
       "      <td>1/1/72</td>\n",
       "      <td>63.19809524</td>\n",
       "    </tr>\n",
       "    <tr>\n",
       "      <th>25</th>\n",
       "      <td>2/1/72</td>\n",
       "      <td>60.5085</td>\n",
       "    </tr>\n",
       "    <tr>\n",
       "      <th>26</th>\n",
       "      <td>3/1/72</td>\n",
       "      <td>63.35227273</td>\n",
       "    </tr>\n",
       "    <tr>\n",
       "      <th>27</th>\n",
       "      <td>4/1/72</td>\n",
       "      <td>68.0165</td>\n",
       "    </tr>\n",
       "    <tr>\n",
       "      <th>28</th>\n",
       "      <td>5/1/72</td>\n",
       "      <td>67.69136364</td>\n",
       "    </tr>\n",
       "    <tr>\n",
       "      <th>29</th>\n",
       "      <td>6/1/72</td>\n",
       "      <td>67.12863636</td>\n",
       "    </tr>\n",
       "  </tbody>\n",
       "</table>\n",
       "</div>"
      ],
      "text/plain": [
       "       Date   StockPrice\n",
       "0    1/1/70  74.25333333\n",
       "1    2/1/70  69.97684211\n",
       "2    3/1/70  72.15857143\n",
       "3    4/1/70  74.25272727\n",
       "4    5/1/70   66.6652381\n",
       "5    6/1/70  67.59318182\n",
       "6    7/1/70  72.69636364\n",
       "7    8/1/70  76.14666667\n",
       "8    9/1/70  80.46285714\n",
       "9   10/1/70  84.69181818\n",
       "10  11/1/70      86.3295\n",
       "11  12/1/70  89.95818182\n",
       "12   1/1/71       96.691\n",
       "13   2/1/71       104.15\n",
       "14   3/1/71  109.9430435\n",
       "15   4/1/71  118.4804762\n",
       "16   5/1/71      120.598\n",
       "17   6/1/71  73.68272727\n",
       "18   7/1/71  57.96666667\n",
       "19   8/1/71  58.15545455\n",
       "20   9/1/71  62.64380952\n",
       "21  10/1/71  61.22761905\n",
       "22  11/1/71  57.15095238\n",
       "23  12/1/71        62.53\n",
       "24   1/1/72  63.19809524\n",
       "25   2/1/72      60.5085\n",
       "26   3/1/72  63.35227273\n",
       "27   4/1/72      68.0165\n",
       "28   5/1/72  67.69136364\n",
       "29   6/1/72  67.12863636"
      ]
     },
     "execution_count": 28,
     "metadata": {},
     "output_type": "execute_result"
    }
   ],
   "source": [
    "IBM.dtypes\n",
    "IBM.head(n=30)"
   ]
  },
  {
   "cell_type": "code",
   "execution_count": 30,
   "metadata": {
    "collapsed": false
   },
   "outputs": [],
   "source": [
    "from datetime import datetime\n",
    "IBM['Date']=pd.to_datetime(IBM['Date'], format=\"%m/%d/%y\")\n",
    "GE['Date']=pd.to_datetime(IBM['Date'], format=\"%m/%d/%y\")\n",
    "ProcterGamble['Date']=pd.to_datetime(IBM['Date'], format=\"%m/%d/%y\")\n",
    "Boeign['Date']=pd.to_datetime(IBM['Date'], format=\"%m/%d/%y\")\n",
    "CocaCola['Date']=pd.to_datetime(IBM['Date'], format=\"%m/%d/%y\")"
   ]
  },
  {
   "cell_type": "markdown",
   "metadata": {},
   "source": [
    "The first argument to the as.Date function is the variable we want to convert, and the second argument is the format of the\n",
    "Date variable. We can just overwrite the original Date variable values with the output of this function. Now, answer the\n",
    "following questions using the str and summary functions.\n",
    "\n",
    "Our five datasets all have the same number of observations. How many observations are there in each data set?"
   ]
  },
  {
   "cell_type": "code",
   "execution_count": 35,
   "metadata": {
    "collapsed": false
   },
   "outputs": [
    {
     "name": "stdout",
     "output_type": "stream",
     "text": [
      "\n",
      "Shape Boeing: (480, 2)\n",
      "\n",
      "Shape GE: (480, 2)\n",
      "\n",
      "Shape CocaCola: (480, 2)\n",
      "\n",
      "Shape ProcterGamble: (480, 2)\n",
      "\n",
      "Shape IBM: (480, 2)\n"
     ]
    }
   ],
   "source": [
    "print(\"\\nShape Boeing:\",Boeing.shape)\n",
    "print(\"\\nShape GE:\",GE.shape)\n",
    "print(\"\\nShape CocaCola:\",CocaCola.shape)\n",
    "print(\"\\nShape ProcterGamble:\",ProcterGamble.shape)\n",
    "print(\"\\nShape IBM:\",IBM.shape)"
   ]
  },
  {
   "cell_type": "code",
   "execution_count": null,
   "metadata": {
    "collapsed": true
   },
   "outputs": [],
   "source": [
    "## SUMMARY STATISTICS"
   ]
  },
  {
   "cell_type": "markdown",
   "metadata": {},
   "source": [
    "What is the earliest year in our datasets?"
   ]
  },
  {
   "cell_type": "code",
   "execution_count": 44,
   "metadata": {
    "collapsed": true
   },
   "outputs": [],
   "source": [
    "import statistics as stat"
   ]
  },
  {
   "cell_type": "markdown",
   "metadata": {},
   "source": [
    "What is the mean stock price of IBM over this time period?"
   ]
  },
  {
   "cell_type": "code",
   "execution_count": 36,
   "metadata": {
    "collapsed": false
   },
   "outputs": [
    {
     "name": "stdout",
     "output_type": "stream",
     "text": [
      "\n",
      "minimum value of the variable Beat: 10.79\n"
     ]
    }
   ],
   "source": [
    "print(\"\\nminimum value of the variable IBM price:\",IBM.StockPrice.min())"
   ]
  },
  {
   "cell_type": "code",
   "execution_count": 39,
   "metadata": {
    "collapsed": false
   },
   "outputs": [
    {
     "name": "stdout",
     "output_type": "stream",
     "text": [
      "\n",
      "minimum value of the variable Date: 1970-01-01 00:00:00\n"
     ]
    }
   ],
   "source": [
    "print(\"\\nminimum value of the variable Date:\",IBM.Date.min())"
   ]
  },
  {
   "cell_type": "markdown",
   "metadata": {},
   "source": [
    "What is the latest year in our datasets?"
   ]
  },
  {
   "cell_type": "code",
   "execution_count": 40,
   "metadata": {
    "collapsed": false
   },
   "outputs": [
    {
     "name": "stdout",
     "output_type": "stream",
     "text": [
      "\\Maximum value of the variable Date: 2009-12-01 00:00:00\n"
     ]
    }
   ],
   "source": [
    "print(\"\\Maximum value of the variable Date:\",IBM.Date.max())"
   ]
  },
  {
   "cell_type": "markdown",
   "metadata": {},
   "source": [
    "What is the mean stock price of IBM over this time period?"
   ]
  },
  {
   "cell_type": "code",
   "execution_count": 50,
   "metadata": {
    "collapsed": false
   },
   "outputs": [
    {
     "name": "stdout",
     "output_type": "stream",
     "text": [
      "<class 'pandas.core.frame.DataFrame'>\n",
      "RangeIndex: 480 entries, 0 to 479\n",
      "Data columns (total 2 columns):\n",
      "Date          480 non-null datetime64[ns]\n",
      "StockPrice    480 non-null float64\n",
      "dtypes: datetime64[ns](1), float64(1)\n",
      "memory usage: 7.6 KB\n"
     ]
    }
   ],
   "source": [
    "IBM['StockPrice'] = pd.to_numeric(IBM['StockPrice'], errors='coerce')\n",
    "IBM.info()"
   ]
  },
  {
   "cell_type": "markdown",
   "metadata": {},
   "source": [
    "What is the minimum stock price of General Electric (GE) over this time period?"
   ]
  },
  {
   "cell_type": "code",
   "execution_count": 51,
   "metadata": {
    "collapsed": false
   },
   "outputs": [
    {
     "name": "stdout",
     "output_type": "stream",
     "text": [
      "\n",
      "minimum value of the variable StockPrice: 9.293636364\n"
     ]
    }
   ],
   "source": [
    "print(\"\\nminimum value of the variable StockPrice:\",IBM.StockPrice.min())"
   ]
  },
  {
   "cell_type": "markdown",
   "metadata": {},
   "source": [
    "What is the maximum stock price of Coca-Cola over this time period?"
   ]
  },
  {
   "cell_type": "code",
   "execution_count": 53,
   "metadata": {
    "collapsed": false
   },
   "outputs": [
    {
     "name": "stdout",
     "output_type": "stream",
     "text": [
      "\n",
      "minimum value of the variable StockPrice: 101.9390476\n"
     ]
    }
   ],
   "source": [
    "print(\"\\nminimum value of the variable StockPrice:\",CocaCola.StockPrice.min())"
   ]
  },
  {
   "cell_type": "markdown",
   "metadata": {},
   "source": [
    "What is the median stock price of Boeing over this time period?"
   ]
  },
  {
   "cell_type": "code",
   "execution_count": null,
   "metadata": {
    "collapsed": true
   },
   "outputs": [],
   "source": []
  }
 ],
 "metadata": {
  "kernelspec": {
   "display_name": "Python 3",
   "language": "python",
   "name": "python3"
  },
  "language_info": {
   "codemirror_mode": {
    "name": "ipython",
    "version": 3
   },
   "file_extension": ".py",
   "mimetype": "text/x-python",
   "name": "python",
   "nbconvert_exporter": "python",
   "pygments_lexer": "ipython3",
   "version": "3.6.0"
  }
 },
 "nbformat": 4,
 "nbformat_minor": 2
}
